{
 "cells": [
  {
   "cell_type": "markdown",
   "metadata": {},
   "source": [
    "Importing the required dependencies"
   ]
  },
  {
   "cell_type": "code",
   "execution_count": 1,
   "metadata": {},
   "outputs": [
    {
     "name": "stderr",
     "output_type": "stream",
     "text": [
      "C:\\Users\\ASUS\\Anaconda3\\lib\\site-packages\\numpy\\_distributor_init.py:32: UserWarning: loaded more than 1 DLL from .libs:\n",
      "C:\\Users\\ASUS\\Anaconda3\\lib\\site-packages\\numpy\\.libs\\libopenblas.QVLO2T66WEPI7JZ63PS3HMOHFEY472BC.gfortran-win_amd64.dll\n",
      "C:\\Users\\ASUS\\Anaconda3\\lib\\site-packages\\numpy\\.libs\\libopenblas.WCDJNK7YVMPZQ2ME2ZZHJJRJ3JIKNDB7.gfortran-win_amd64.dll\n",
      "  stacklevel=1)\n"
     ]
    }
   ],
   "source": [
    "%config Completer.use_jedi = False\n",
    "from qiskit.quantum_info import Operator\n",
    "from qiskit import QuantumCircuit, ClassicalRegister, QuantumRegister\n",
    "from qiskit.visualization import plot_histogram\n",
    "import numpy as np\n",
    "import math\n",
    "import matplotlib.pyplot as plt\n",
    "from math import pi\n",
    "from qiskit.tools.visualization import circuit_drawer\n",
    "from qiskit.quantum_info import state_fidelity\n",
    "from qiskit import BasicAer "
   ]
  },
  {
   "cell_type": "markdown",
   "metadata": {},
   "source": [
    "Utility Functions "
   ]
  },
  {
   "cell_type": "code",
   "execution_count": 2,
   "metadata": {},
   "outputs": [],
   "source": [
    "#https://qiskit.org/textbook/ch-applications/vqe-molecules.html\n",
    "#\"Up to a global phase, any possible single qubit transformation may be implemented by appropriately setting these parameters\"\n",
    "\n",
    "# The rationale behind this program is to calculate the parameters theta. lambda, and phi \n",
    "# from the given values of the matrix elements in the normalized unitary matrix A\n",
    "\n",
    "# functions like limDivision, etc. are used to overcome implementational issues\n",
    "\n",
    "# Note - This is not a robust implementation, as the present Qiskit implementation of the u3 gate \n",
    "# does not accept complex angle values. This would mean that the first element of the matrix A MUST be real (cos(theta/2))  \n",
    "\n",
    "\n",
    "import numpy as np\n",
    "import cmath\n",
    "from qiskit import *\n",
    "\n",
    "def limDivision(x, y):\n",
    "    if(y != 0):\n",
    "        return x/y\n",
    "    else:\n",
    "        return 0\n",
    "\n",
    "def determinant(A):\n",
    "    return abs(A[0][0]*A[1][1] - A[0][1]*A[1][0])\n",
    "    \n",
    "def mapAtoU3(A):\n",
    "    mod = determinant(A)\n",
    "    a11 = A[0][0]/mod\n",
    "    a12 = A[0][1]/mod\n",
    "    a21 = A[1][0]/mod\n",
    "    a22 = A[1][1]/mod\n",
    "    \n",
    "    thetaA = 2*cmath.acos(a11)\n",
    "    \n",
    "    if abs(cmath.sin(thetaA/2)) <= 10e-4:\n",
    "        phiA = 0\n",
    "        lambdaA = -1j*cmath.log(limDivision(a22, cmath.cos(thetaA/2)))\n",
    "    else:    \n",
    "        phiA = -1j*cmath.log(limDivision(a21, cmath.sin(thetaA/2)))\n",
    "        lambdaA = -1j*cmath.log(limDivision(-a12, cmath.sin(thetaA/2)))\n",
    "    \n",
    "    paramsA = [thetaA, phiA, lambdaA]\n",
    "        \n",
    "    if((paramsA[0].imag)*(paramsA[1].imag)*(paramsA[2].imag) <= 10e-4):\n",
    "        return paramsA\n",
    "    else:\n",
    "        print('Invalid Matrix - Check Note')\n",
    "        \n",
    "def lambdaFromK(k):\n",
    "    return -np.pi/pow(2, k-1)"
   ]
  },
  {
   "cell_type": "markdown",
   "metadata": {},
   "source": [
    "The U gate used in the above code can be represented as below. The U3 gate can be obtained from the U gate by setting $\\gamma=0$ (differ by global phase)\n",
    "\n",
    "\\begin{align}\\begin{aligned}\\newcommand{\\th}{\\frac{\\theta}{2}}\\\\U\\begin{split}(\\theta, \\phi, \\lambda, \\gamma) =\n",
    "    \\begin{pmatrix}\n",
    "        e^{i\\gamma}\\cos(\\th)          & -e^{i(\\lambda+\\gamma)}\\sin(\\th) \\\\\n",
    "        e^{i(\\phi+\\gamma)}\\sin(\\th) & e^{i(\\phi+\\lambda+\\gamma)}\\cos(\\th)\n",
    "    \\end{pmatrix}\\end{split}\\end{aligned}\\end{align}"
   ]
  },
  {
   "cell_type": "markdown",
   "metadata": {},
   "source": [
    "Function for initialising the input 'b' (optional, defaults to 0)"
   ]
  },
  {
   "cell_type": "code",
   "execution_count": 3,
   "metadata": {},
   "outputs": [],
   "source": [
    "#https://github.com/hywong2/HHL_Example/blob/main/HHL_Hector_Wong.ipynb\n",
    "def initializeB(qc, b, inp):\n",
    "    qc.initialize(b, inp)"
   ]
  },
  {
   "cell_type": "code",
   "execution_count": 19,
   "metadata": {},
   "outputs": [],
   "source": [
    "#https://github.com/Qiskit/qiskit-terra/blob/main/qiskit/algorithms/linear_solvers/matrices/linear_system_matrix.py\n",
    "\n",
    "from abc import ABC, abstractmethod\n",
    "from typing import Tuple\n",
    "\n",
    "from qiskit import QuantumCircuit\n",
    "from qiskit.circuit.library import BlueprintCircuit\n",
    "\n",
    "\n",
    "class LinearSystemMatrix(BlueprintCircuit, ABC):\n",
    "    \"\"\"Base class for linear system matrices.\"\"\"\n",
    "\n",
    "    def __init__(\n",
    "        self,\n",
    "        num_state_qubits: int,\n",
    "        tolerance: float,\n",
    "        evolution_time: float,\n",
    "        name: str = \"ls_matrix\",\n",
    "    ) -> None:\n",
    "        \"\"\"\n",
    "        Args:\n",
    "            num_state_qubits: the number of qubits where the unitary acts.\n",
    "            tolerance: the accuracy desired for the approximation\n",
    "            evolution_time: the time of the Hamiltonian simulation\n",
    "            name: The name of the object.\n",
    "        \"\"\"\n",
    "        super().__init__(name=name)\n",
    "\n",
    "        # define internal parameters\n",
    "        self._num_state_qubits = None\n",
    "        self._tolerance = None\n",
    "        self._evolution_time = None  # makes sure the eigenvalues are contained in [0,1)\n",
    "\n",
    "        # store parameters\n",
    "        self.num_state_qubits = num_state_qubits\n",
    "        self.tolerance = tolerance\n",
    "        self.evolution_time = evolution_time\n",
    "\n",
    "    @property\n",
    "    def num_state_qubits(self) -> int:\n",
    "        r\"\"\"The number of state qubits representing the state :math:`|x\\rangle`.\n",
    "        Returns:\n",
    "            The number of state qubits.\n",
    "        \"\"\"\n",
    "        return self._num_state_qubits\n",
    "\n",
    "    @num_state_qubits.setter\n",
    "    def num_state_qubits(self, num_state_qubits: int) -> None:\n",
    "        \"\"\"Set the number of state qubits.\n",
    "        Note that this may change the underlying quantum register, if the number of state qubits\n",
    "        changes.\n",
    "        Args:\n",
    "            num_state_qubits: The new number of qubits.\n",
    "        \"\"\"\n",
    "        if num_state_qubits != self._num_state_qubits:\n",
    "            self._invalidate()\n",
    "            self._num_state_qubits = num_state_qubits\n",
    "            self._reset_registers(num_state_qubits)\n",
    "\n",
    "    @property\n",
    "    def tolerance(self) -> float:\n",
    "        \"\"\"Return the error tolerance\"\"\"\n",
    "        return self._tolerance\n",
    "\n",
    "    @tolerance.setter\n",
    "    def tolerance(self, tolerance: float) -> None:\n",
    "        \"\"\"Set the error tolerance\n",
    "        Args:\n",
    "            tolerance: The new error tolerance.\n",
    "        \"\"\"\n",
    "        self._tolerance = tolerance\n",
    "\n",
    "    @property\n",
    "    def evolution_time(self) -> float:\n",
    "        \"\"\"Return the time of the evolution.\"\"\"\n",
    "        return self._evolution_time\n",
    "\n",
    "    @evolution_time.setter\n",
    "    def evolution_time(self, evolution_time: float) -> None:\n",
    "        \"\"\"Set the time of the evolution.\n",
    "        Args:\n",
    "            evolution_time: The new time of the evolution.\n",
    "        \"\"\"\n",
    "        self._evolution_time = evolution_time\n",
    "\n",
    "    @abstractmethod\n",
    "    def eigs_bounds(self) -> Tuple[float, float]:\n",
    "        \"\"\"Return lower and upper bounds on the eigenvalues of the matrix.\"\"\"\n",
    "        raise NotImplementedError\n",
    "\n",
    "    @abstractmethod\n",
    "    def condition_bounds(self) -> Tuple[float, float]:\n",
    "        \"\"\"Return lower and upper bounds on the condition number of the matrix.\"\"\"\n",
    "        raise NotImplementedError\n",
    "\n",
    "    @abstractmethod\n",
    "    def _reset_registers(self, num_state_qubits: int) -> None:\n",
    "        \"\"\"Reset the registers according to the new number of state qubits.\n",
    "        Args:\n",
    "            num_state_qubits: The new number of qubits.\n",
    "        \"\"\"\n",
    "        raise NotImplementedError\n",
    "\n",
    "    @abstractmethod\n",
    "    def power(self, power: int, matrix_power: bool = False) -> QuantumCircuit:\n",
    "        \"\"\"Build powers of the circuit.\n",
    "        Args:\n",
    "            power: The power to raise this circuit to.\n",
    "            matrix_power: If True, the circuit is converted to a matrix and then the\n",
    "                matrix power is computed. If False, and ``power`` is a positive integer,\n",
    "                the implementation defaults to ``repeat``.\n",
    "        Returns:\n",
    "            The quantum circuit implementing powers of the unitary.\n",
    "        \"\"\"\n",
    "        raise NotImplementedError"
   ]
  },
  {
   "cell_type": "code",
   "execution_count": 21,
   "metadata": {},
   "outputs": [],
   "source": [
    "#https://github.com/Qiskit/qiskit-terra/blob/main/qiskit/algorithms/linear_solvers/matrices/numpy_matrix.py\n",
    "\n",
    "# This code is part of Qiskit.\n",
    "#\n",
    "# (C) Copyright IBM 2020, 2021.\n",
    "#\n",
    "# This code is licensed under the Apache License, Version 2.0. You may\n",
    "# obtain a copy of this license in the LICENSE.txt file in the root directory\n",
    "# of this source tree or at http://www.apache.org/licenses/LICENSE-2.0.\n",
    "#\n",
    "# Any modifications or derivative works of this code must retain this\n",
    "# copyright notice, and modified files need to carry a notice indicating\n",
    "# that they have been altered from the originals.\n",
    "\n",
    "\"\"\"Hamiltonian simulation of matrices given as numpy arrays.\"\"\"\n",
    "\n",
    "from typing import Tuple\n",
    "import numpy as np\n",
    "import scipy as sp\n",
    "\n",
    "from qiskit import QuantumCircuit, QuantumRegister\n",
    "\n",
    "\n",
    "class NumPyMatrix(LinearSystemMatrix):\n",
    "    \"\"\"Class of matrices given as a numpy array.\n",
    "    Examples:\n",
    "        .. jupyter-execute::\n",
    "            import numpy as np\n",
    "            from qiskit import QuantumCircuit\n",
    "            from qiskit.algorithms.linear_solvers.matrices.numpy_matrix import NumPyMatrix\n",
    "            matrix = NumPyMatrix(np.array([[1 / 2, 1 / 6, 0, 0], [1 / 6, 1 / 2, 1 / 6, 0],\n",
    "                               [0, 1 / 6, 1 / 2, 1 / 6], [0, 0, 1 / 6, 1 / 2]]))\n",
    "            power = 2\n",
    "            num_qubits = matrix.num_state_qubits\n",
    "            # Controlled power (as used within QPE)\n",
    "            pow_circ = matrix.power(power).control()\n",
    "            circ_qubits = pow_circ.num_qubits\n",
    "            qc = QuantumCircuit(circ_qubits)\n",
    "            qc.append(matrix.power(power).control(), list(range(circ_qubits)))\n",
    "    \"\"\"\n",
    "\n",
    "    def __init__(\n",
    "        self,\n",
    "        matrix: np.ndarray,\n",
    "        tolerance: float = 1e-2,\n",
    "        evolution_time: float = 1.0,\n",
    "        name: str = \"np_matrix\",\n",
    "    ) -> None:\n",
    "        \"\"\"\n",
    "        Args:\n",
    "            matrix: The matrix defining the linear system problem.\n",
    "            tolerance: The accuracy desired for the approximation.\n",
    "            evolution_time: The time of the Hamiltonian simulation.\n",
    "            name: The name of the object.\n",
    "        \"\"\"\n",
    "\n",
    "        # define internal parameters\n",
    "        self._num_state_qubits = None\n",
    "        self._tolerance = None\n",
    "        self._evolution_time = None  # makes sure the eigenvalues are contained in [0,1)\n",
    "        self._matrix = None\n",
    "\n",
    "        super().__init__(\n",
    "            num_state_qubits=int(np.log2(matrix.shape[0])),\n",
    "            tolerance=tolerance,\n",
    "            evolution_time=evolution_time,\n",
    "            name=name,\n",
    "        )\n",
    "\n",
    "        # store parameters\n",
    "        self.num_state_qubits = int(np.log2(matrix.shape[0]))\n",
    "        self.tolerance = tolerance\n",
    "        self.evolution_time = evolution_time\n",
    "        self.matrix = matrix\n",
    "\n",
    "    @property\n",
    "    def num_state_qubits(self) -> int:\n",
    "        r\"\"\"The number of state qubits representing the state :math:`|x\\rangle`.\n",
    "        Returns:\n",
    "            The number of state qubits.\n",
    "        \"\"\"\n",
    "        return self._num_state_qubits\n",
    "\n",
    "    @num_state_qubits.setter\n",
    "    def num_state_qubits(self, num_state_qubits: int) -> None:\n",
    "        \"\"\"Set the number of state qubits.\n",
    "        Note that this may change the underlying quantum register, if the number of state qubits\n",
    "        changes.\n",
    "        Args:\n",
    "            num_state_qubits: The new number of qubits.\n",
    "        \"\"\"\n",
    "        if num_state_qubits != self._num_state_qubits:\n",
    "            self._invalidate()\n",
    "            self._num_state_qubits = num_state_qubits\n",
    "            self._reset_registers(num_state_qubits)\n",
    "\n",
    "    @property\n",
    "    def tolerance(self) -> float:\n",
    "        \"\"\"Return the error tolerance\"\"\"\n",
    "        return self._tolerance\n",
    "\n",
    "    @tolerance.setter\n",
    "    def tolerance(self, tolerance: float) -> None:\n",
    "        \"\"\"Set the error tolerance\n",
    "        Args:\n",
    "            tolerance: The new error tolerance.\n",
    "        \"\"\"\n",
    "        self._tolerance = tolerance\n",
    "\n",
    "    @property\n",
    "    def evolution_time(self) -> float:\n",
    "        \"\"\"Return the time of the evolution.\"\"\"\n",
    "        return self._evolution_time\n",
    "\n",
    "    @evolution_time.setter\n",
    "    def evolution_time(self, evolution_time: float) -> None:\n",
    "        \"\"\"Set the time of the evolution.\n",
    "        Args:\n",
    "            evolution_time: The new time of the evolution.\n",
    "        \"\"\"\n",
    "        self._evolution_time = evolution_time\n",
    "\n",
    "    @property\n",
    "    def matrix(self) -> np.ndarray:\n",
    "        \"\"\"Return the matrix.\"\"\"\n",
    "        return self._matrix\n",
    "\n",
    "    @matrix.setter\n",
    "    def matrix(self, matrix: np.ndarray) -> None:\n",
    "        \"\"\"Set the matrix.\n",
    "        Args:\n",
    "            matrix: The new matrix.\n",
    "        \"\"\"\n",
    "        self._matrix = matrix\n",
    "\n",
    "    def eigs_bounds(self) -> Tuple[float, float]:\n",
    "        \"\"\"Return lower and upper bounds on the eigenvalues of the matrix.\"\"\"\n",
    "        matrix_array = self.matrix\n",
    "        lambda_max = max(np.abs(np.linalg.eigvals(matrix_array)))\n",
    "        lambda_min = min(np.abs(np.linalg.eigvals(matrix_array)))\n",
    "        return lambda_min, lambda_max\n",
    "\n",
    "    def condition_bounds(self) -> Tuple[float, float]:\n",
    "        \"\"\"Return lower and upper bounds on the condition number of the matrix.\"\"\"\n",
    "        matrix_array = self.matrix\n",
    "        kappa = np.linalg.cond(matrix_array)\n",
    "        return kappa, kappa\n",
    "\n",
    "    def _check_configuration(self, raise_on_failure: bool = True) -> bool:\n",
    "        \"\"\"Check if the current configuration is valid.\"\"\"\n",
    "        valid = True\n",
    "\n",
    "        if self.matrix.shape[0] != self.matrix.shape[1]:\n",
    "            if raise_on_failure:\n",
    "                raise AttributeError(\"Input matrix must be square!\")\n",
    "            return False\n",
    "        if np.log2(self.matrix.shape[0]) % 1 != 0:\n",
    "            if raise_on_failure:\n",
    "                raise AttributeError(\"Input matrix dimension must be 2^n!\")\n",
    "            return False\n",
    "        if not np.allclose(self.matrix, self.matrix.conj().T):\n",
    "            if raise_on_failure:\n",
    "                raise AttributeError(\"Input matrix must be hermitian!\")\n",
    "            return False\n",
    "\n",
    "        return valid\n",
    "\n",
    "    def _reset_registers(self, num_state_qubits: int) -> None:\n",
    "        \"\"\"Reset the quantum registers.\n",
    "        Args:\n",
    "            num_state_qubits: The number of qubits to represent the matrix.\n",
    "        \"\"\"\n",
    "        qr_state = QuantumRegister(num_state_qubits, \"state\")\n",
    "        self.qregs = [qr_state]\n",
    "\n",
    "    def _build(self) -> None:\n",
    "        \"\"\"If not already built, build the circuit.\"\"\"\n",
    "        if self._is_built:\n",
    "            return\n",
    "\n",
    "        super()._build()\n",
    "\n",
    "        self.compose(self.power(1), inplace=True)\n",
    "\n",
    "    def inverse(self):\n",
    "        return NumPyMatrix(self.matrix, evolution_time=-1 * self.evolution_time)\n",
    "\n",
    "    def power(self, power: int, matrix_power: bool = False) -> QuantumCircuit:\n",
    "        \"\"\"Build powers of the circuit.\n",
    "        Args:\n",
    "            power: The power to raise this circuit to.\n",
    "            matrix_power: If True, the circuit is converted to a matrix and then the\n",
    "                matrix power is computed. If False, and ``power`` is a positive integer,\n",
    "                the implementation defaults to ``repeat``.\n",
    "        Returns:\n",
    "            The quantum circuit implementing powers of the unitary.\n",
    "        \"\"\"\n",
    "        qc = QuantumCircuit(self.num_state_qubits)\n",
    "        evolved = sp.linalg.expm(1j * self.matrix * self.evolution_time)\n",
    "        qc.unitary(evolved, qc.qubits)\n",
    "        return qc.power(power)"
   ]
  },
  {
   "cell_type": "code",
   "execution_count": 22,
   "metadata": {},
   "outputs": [],
   "source": [
    "#https://github.com/Qiskit/qiskit-terra/blob/main/qiskit/algorithms/linear_solvers/hhl.py\n",
    "def matrixToGate(matrix):\n",
    "        if isinstance(matrix, QuantumCircuit):\n",
    "            matrix_circuit = matrix\n",
    "        elif isinstance(matrix, (list, np.ndarray)):\n",
    "            if isinstance(matrix, list):\n",
    "                matrix = np.array(matrix)\n",
    "            if matrix.shape[0] != matrix.shape[1]:\n",
    "                raise ValueError(\"Input matrix must be square!\")\n",
    "            if np.log2(matrix.shape[0]) % 1 != 0:\n",
    "                raise ValueError(\"Input matrix dimension must be 2^n!\")\n",
    "            if not np.allclose(matrix, matrix.conj().T):\n",
    "                raise ValueError(\"Input matrix must be hermitian!\")\n",
    "            if matrix.shape[0] != 2**len(matrix)/2:\n",
    "                raise ValueError(\n",
    "                    \"Input vector dimension does not match input \"\n",
    "                    \"matrix dimension! Vector dimension: \"\n",
    "                    + str(vector_circuit.num_qubits)\n",
    "                    + \". Matrix dimension: \"\n",
    "                    + str(matrix.shape[0])\n",
    "                )\n",
    "            return NumPyMatrix(matrix, evolution_time=2 * np.pi)\n",
    "        else:\n",
    "            raise ValueError(f\"Invalid type for matrix: {type(matrix)}.\")\n"
   ]
  },
  {
   "cell_type": "markdown",
   "metadata": {},
   "source": [
    "Creating the QCL-QPE circuit given the matrix A, the number of stages, and whether A and b would be provided by the user or calculated internally and taken to be 0, respectively"
   ]
  },
  {
   "cell_type": "code",
   "execution_count": 23,
   "metadata": {},
   "outputs": [],
   "source": [
    "def QCL_QPE(A, stages, b = 0, paramsAProvided = 0):                             \n",
    "    \n",
    "    ancilla = QuantumRegister(1, name='ancilla')          \n",
    "    inp = QuantumRegister(len(A)/2, name='input')\n",
    "    #measurement = ClassicalRegister(stages, name='storage')\n",
    "    meas1= ClassicalRegister(1)\n",
    "    meas2= ClassicalRegister(1)\n",
    "    meas3= ClassicalRegister(1)\n",
    "    \n",
    "    \n",
    "    qc = QuantumCircuit(ancilla, inp, meas1, meas2, meas3 )\n",
    "    \n",
    "    \n",
    "    \n",
    "    for qubitNo in range(0, stages):       \n",
    "        qc.h(ancilla[0])        \n",
    "        #if paramsAProvided == 0:\n",
    "        #    paramsA = mapAtoU3(A)\n",
    "        #else: \n",
    "        #    paramsA = paramsAProvided\n",
    "        power = stages-qubitNo-1\n",
    "        for j in range(0, pow(2, power)):\n",
    "            qc.append(matrixToGate(A))\n",
    "            #if paramsAProvided == 0:\n",
    "            #    qc.cu3(paramsA[0].real, paramsA[1].real, paramsA[2].real, ancilla[0], inp[0])\n",
    "            #else:\n",
    "            #    qc.cu(paramsA[0], paramsA[1], paramsA[2], paramsA[3], ancilla[0], inp[0]);\n",
    "                \n",
    "#       #for i in range(0, qubitNo): \n",
    "        #k = qubitNo - i\n",
    "        #qc.p(lambdaFromK(k), ancilla[0]).c_if(measurement[i], 1)\n",
    "        \n",
    "#         if qubitNo == 0:\n",
    "#             qc.p(lambdaFromK(0), ancilla[0]).c_if(meas1, 1) \n",
    "\n",
    "        if qubitNo == 1:\n",
    "            qc.p(lambdaFromK(1), ancilla[0]).c_if(meas1, 1)\n",
    "        if qubitNo == 2:\n",
    "            qc.p(lambdaFromK(2), ancilla[0]).c_if(meas1, 1)\n",
    "            qc.p(lambdaFromK(1), ancilla[0]).c_if(meas2, 1)\n",
    "\n",
    "        qc.h(ancilla[0])                    \n",
    "        if qubitNo == 0:\n",
    "            qc.measure(ancilla[0], meas1) \n",
    "        if qubitNo == 1:\n",
    "            qc.measure(ancilla[0], meas2) \n",
    "        if qubitNo == 2:\n",
    "            qc.measure(ancilla[0], meas3) \n",
    "        else:\n",
    "            pass\n",
    "        if qubitNo != stages - 1:\n",
    "            qc.reset(ancilla[0])                         \n",
    "    return qc"
   ]
  },
  {
   "cell_type": "code",
   "execution_count": 24,
   "metadata": {},
   "outputs": [],
   "source": [
    "def runSimul(A, stages, b = 0, paramsAProvided = 0):\n",
    "\n",
    "    qc = QCL_QPE(A, stages, b, paramsAProvided)\n",
    "    qc.draw()\n",
    "    backend = BasicAer.get_backend('qasm_simulator')             ## Why does statevector and qsam gives different counts+ : resolved\n",
    "    job_sim = backend.run(transpile(qc, backend), shots = 1000)  # despite 1024 shots, statevector gives only 1 count  : resolved\n",
    "    result_sim = job_sim.result()                                # https://qiskit.org/documentation/stable/0.24/tutorials/simulators/1_aer_provider.html\n",
    "    \n",
    "    counts = result_sim.get_counts(qc)\n",
    "    print(\"\\nTotal\",counts)\n",
    "    \n",
    "    plot_histogram(counts)\n",
    "    \n",
    "    return qc, counts"
   ]
  },
  {
   "cell_type": "markdown",
   "metadata": {},
   "source": [
    "## Using the Code on Some Example Cases "
   ]
  },
  {
   "cell_type": "markdown",
   "metadata": {},
   "source": [
    "First, let us take the simple case of the matrix\n",
    "\\begin{align}\\begin{aligned}\\newcommand{\\th}{\\frac{\\theta}{2}}\\\\A\\begin{split}=\n",
    "    \\begin{pmatrix}\n",
    "        0          & -1 \\\\\n",
    "        1 & 0\n",
    "    \\end{pmatrix}\\end{split}\\end{aligned}\\end{align}"
   ]
  },
  {
   "cell_type": "code",
   "execution_count": 25,
   "metadata": {},
   "outputs": [
    {
     "ename": "AttributeError",
     "evalue": "'NumPyMatrix' object has no attribute '_is_built'",
     "output_type": "error",
     "traceback": [
      "\u001b[1;31m---------------------------------------------------------------------------\u001b[0m",
      "\u001b[1;31mAttributeError\u001b[0m                            Traceback (most recent call last)",
      "\u001b[1;32m<ipython-input-25-0d5833c5e203>\u001b[0m in \u001b[0;36m<module>\u001b[1;34m\u001b[0m\n\u001b[1;32m----> 1\u001b[1;33m \u001b[0mqc\u001b[0m\u001b[1;33m,\u001b[0m \u001b[0mcounts\u001b[0m \u001b[1;33m=\u001b[0m \u001b[0mrunSimul\u001b[0m\u001b[1;33m(\u001b[0m\u001b[1;33m[\u001b[0m\u001b[1;33m[\u001b[0m\u001b[1;36m0\u001b[0m\u001b[1;33m,\u001b[0m \u001b[1;36m1\u001b[0m\u001b[1;33m]\u001b[0m\u001b[1;33m,\u001b[0m \u001b[1;33m[\u001b[0m\u001b[1;36m1\u001b[0m\u001b[1;33m,\u001b[0m \u001b[1;36m0\u001b[0m\u001b[1;33m]\u001b[0m\u001b[1;33m]\u001b[0m\u001b[1;33m,\u001b[0m \u001b[1;36m3\u001b[0m\u001b[1;33m)\u001b[0m\u001b[1;33m\u001b[0m\u001b[1;33m\u001b[0m\u001b[0m\n\u001b[0m",
      "\u001b[1;32m<ipython-input-24-c4fa5893da7f>\u001b[0m in \u001b[0;36mrunSimul\u001b[1;34m(A, stages, b, paramsAProvided)\u001b[0m\n\u001b[0;32m      1\u001b[0m \u001b[1;32mdef\u001b[0m \u001b[0mrunSimul\u001b[0m\u001b[1;33m(\u001b[0m\u001b[0mA\u001b[0m\u001b[1;33m,\u001b[0m \u001b[0mstages\u001b[0m\u001b[1;33m,\u001b[0m \u001b[0mb\u001b[0m \u001b[1;33m=\u001b[0m \u001b[1;36m0\u001b[0m\u001b[1;33m,\u001b[0m \u001b[0mparamsAProvided\u001b[0m \u001b[1;33m=\u001b[0m \u001b[1;36m0\u001b[0m\u001b[1;33m)\u001b[0m\u001b[1;33m:\u001b[0m\u001b[1;33m\u001b[0m\u001b[1;33m\u001b[0m\u001b[0m\n\u001b[0;32m      2\u001b[0m \u001b[1;33m\u001b[0m\u001b[0m\n\u001b[1;32m----> 3\u001b[1;33m     \u001b[0mqc\u001b[0m \u001b[1;33m=\u001b[0m \u001b[0mQCL_QPE\u001b[0m\u001b[1;33m(\u001b[0m\u001b[0mA\u001b[0m\u001b[1;33m,\u001b[0m \u001b[0mstages\u001b[0m\u001b[1;33m,\u001b[0m \u001b[0mb\u001b[0m\u001b[1;33m,\u001b[0m \u001b[0mparamsAProvided\u001b[0m\u001b[1;33m)\u001b[0m\u001b[1;33m\u001b[0m\u001b[1;33m\u001b[0m\u001b[0m\n\u001b[0m\u001b[0;32m      4\u001b[0m     \u001b[0mqc\u001b[0m\u001b[1;33m.\u001b[0m\u001b[0mdraw\u001b[0m\u001b[1;33m(\u001b[0m\u001b[1;33m)\u001b[0m\u001b[1;33m\u001b[0m\u001b[1;33m\u001b[0m\u001b[0m\n\u001b[0;32m      5\u001b[0m     \u001b[0mbackend\u001b[0m \u001b[1;33m=\u001b[0m \u001b[0mBasicAer\u001b[0m\u001b[1;33m.\u001b[0m\u001b[0mget_backend\u001b[0m\u001b[1;33m(\u001b[0m\u001b[1;34m'qasm_simulator'\u001b[0m\u001b[1;33m)\u001b[0m             \u001b[1;31m## Why does statevector and qsam gives different counts+ : resolved\u001b[0m\u001b[1;33m\u001b[0m\u001b[1;33m\u001b[0m\u001b[0m\n",
      "\u001b[1;32m<ipython-input-23-cfeb6e388008>\u001b[0m in \u001b[0;36mQCL_QPE\u001b[1;34m(A, stages, b, paramsAProvided)\u001b[0m\n\u001b[0;32m     21\u001b[0m         \u001b[0mpower\u001b[0m \u001b[1;33m=\u001b[0m \u001b[0mstages\u001b[0m\u001b[1;33m-\u001b[0m\u001b[0mqubitNo\u001b[0m\u001b[1;33m-\u001b[0m\u001b[1;36m1\u001b[0m\u001b[1;33m\u001b[0m\u001b[1;33m\u001b[0m\u001b[0m\n\u001b[0;32m     22\u001b[0m         \u001b[1;32mfor\u001b[0m \u001b[0mj\u001b[0m \u001b[1;32min\u001b[0m \u001b[0mrange\u001b[0m\u001b[1;33m(\u001b[0m\u001b[1;36m0\u001b[0m\u001b[1;33m,\u001b[0m \u001b[0mpow\u001b[0m\u001b[1;33m(\u001b[0m\u001b[1;36m2\u001b[0m\u001b[1;33m,\u001b[0m \u001b[0mpower\u001b[0m\u001b[1;33m)\u001b[0m\u001b[1;33m)\u001b[0m\u001b[1;33m:\u001b[0m\u001b[1;33m\u001b[0m\u001b[1;33m\u001b[0m\u001b[0m\n\u001b[1;32m---> 23\u001b[1;33m             \u001b[0mqc\u001b[0m\u001b[1;33m.\u001b[0m\u001b[0mappend\u001b[0m\u001b[1;33m(\u001b[0m\u001b[0mmatrixToGate\u001b[0m\u001b[1;33m(\u001b[0m\u001b[0mA\u001b[0m\u001b[1;33m)\u001b[0m\u001b[1;33m)\u001b[0m\u001b[1;33m\u001b[0m\u001b[1;33m\u001b[0m\u001b[0m\n\u001b[0m\u001b[0;32m     24\u001b[0m             \u001b[1;31m#if paramsAProvided == 0:\u001b[0m\u001b[1;33m\u001b[0m\u001b[1;33m\u001b[0m\u001b[1;33m\u001b[0m\u001b[0m\n\u001b[0;32m     25\u001b[0m             \u001b[1;31m#    qc.cu3(paramsA[0].real, paramsA[1].real, paramsA[2].real, ancilla[0], inp[0])\u001b[0m\u001b[1;33m\u001b[0m\u001b[1;33m\u001b[0m\u001b[1;33m\u001b[0m\u001b[0m\n",
      "\u001b[1;32m~\\Anaconda3\\lib\\site-packages\\qiskit\\circuit\\quantumcircuit.py\u001b[0m in \u001b[0;36mappend\u001b[1;34m(self, instruction, qargs, cargs)\u001b[0m\n\u001b[0;32m    791\u001b[0m                                'have a to_instruction() method.')\n\u001b[0;32m    792\u001b[0m         \u001b[1;32mif\u001b[0m \u001b[1;32mnot\u001b[0m \u001b[0misinstance\u001b[0m\u001b[1;33m(\u001b[0m\u001b[0minstruction\u001b[0m\u001b[1;33m,\u001b[0m \u001b[0mInstruction\u001b[0m\u001b[1;33m)\u001b[0m \u001b[1;32mand\u001b[0m \u001b[0mhasattr\u001b[0m\u001b[1;33m(\u001b[0m\u001b[0minstruction\u001b[0m\u001b[1;33m,\u001b[0m \u001b[1;34m\"to_instruction\"\u001b[0m\u001b[1;33m)\u001b[0m\u001b[1;33m:\u001b[0m\u001b[1;33m\u001b[0m\u001b[1;33m\u001b[0m\u001b[0m\n\u001b[1;32m--> 793\u001b[1;33m             \u001b[0minstruction\u001b[0m \u001b[1;33m=\u001b[0m \u001b[0minstruction\u001b[0m\u001b[1;33m.\u001b[0m\u001b[0mto_instruction\u001b[0m\u001b[1;33m(\u001b[0m\u001b[1;33m)\u001b[0m\u001b[1;33m\u001b[0m\u001b[1;33m\u001b[0m\u001b[0m\n\u001b[0m\u001b[0;32m    794\u001b[0m \u001b[1;33m\u001b[0m\u001b[0m\n\u001b[0;32m    795\u001b[0m         \u001b[0mexpanded_qargs\u001b[0m \u001b[1;33m=\u001b[0m \u001b[1;33m[\u001b[0m\u001b[0mself\u001b[0m\u001b[1;33m.\u001b[0m\u001b[0mqbit_argument_conversion\u001b[0m\u001b[1;33m(\u001b[0m\u001b[0mqarg\u001b[0m\u001b[1;33m)\u001b[0m \u001b[1;32mfor\u001b[0m \u001b[0mqarg\u001b[0m \u001b[1;32min\u001b[0m \u001b[0mqargs\u001b[0m \u001b[1;32mor\u001b[0m \u001b[1;33m[\u001b[0m\u001b[1;33m]\u001b[0m\u001b[1;33m]\u001b[0m\u001b[1;33m\u001b[0m\u001b[1;33m\u001b[0m\u001b[0m\n",
      "\u001b[1;32m~\\Anaconda3\\lib\\site-packages\\qiskit\\circuit\\quantumcircuit.py\u001b[0m in \u001b[0;36mto_instruction\u001b[1;34m(self, parameter_map)\u001b[0m\n\u001b[0;32m    926\u001b[0m         \"\"\"\n\u001b[0;32m    927\u001b[0m         \u001b[1;32mfrom\u001b[0m \u001b[0mqiskit\u001b[0m\u001b[1;33m.\u001b[0m\u001b[0mconverters\u001b[0m\u001b[1;33m.\u001b[0m\u001b[0mcircuit_to_instruction\u001b[0m \u001b[1;32mimport\u001b[0m \u001b[0mcircuit_to_instruction\u001b[0m\u001b[1;33m\u001b[0m\u001b[1;33m\u001b[0m\u001b[0m\n\u001b[1;32m--> 928\u001b[1;33m         \u001b[1;32mreturn\u001b[0m \u001b[0mcircuit_to_instruction\u001b[0m\u001b[1;33m(\u001b[0m\u001b[0mself\u001b[0m\u001b[1;33m,\u001b[0m \u001b[0mparameter_map\u001b[0m\u001b[1;33m)\u001b[0m\u001b[1;33m\u001b[0m\u001b[1;33m\u001b[0m\u001b[0m\n\u001b[0m\u001b[0;32m    929\u001b[0m \u001b[1;33m\u001b[0m\u001b[0m\n\u001b[0;32m    930\u001b[0m     \u001b[1;32mdef\u001b[0m \u001b[0mto_gate\u001b[0m\u001b[1;33m(\u001b[0m\u001b[0mself\u001b[0m\u001b[1;33m,\u001b[0m \u001b[0mparameter_map\u001b[0m\u001b[1;33m=\u001b[0m\u001b[1;32mNone\u001b[0m\u001b[1;33m,\u001b[0m \u001b[0mlabel\u001b[0m\u001b[1;33m=\u001b[0m\u001b[1;32mNone\u001b[0m\u001b[1;33m)\u001b[0m\u001b[1;33m:\u001b[0m\u001b[1;33m\u001b[0m\u001b[1;33m\u001b[0m\u001b[0m\n",
      "\u001b[1;32m~\\Anaconda3\\lib\\site-packages\\qiskit\\converters\\circuit_to_instruction.py\u001b[0m in \u001b[0;36mcircuit_to_instruction\u001b[1;34m(circuit, parameter_map, equivalence_library)\u001b[0m\n\u001b[0;32m     91\u001b[0m         \u001b[1;32mreturn\u001b[0m \u001b[0msum\u001b[0m\u001b[1;33m(\u001b[0m\u001b[1;33m[\u001b[0m\u001b[0mreg\u001b[0m\u001b[1;33m.\u001b[0m\u001b[0msize\u001b[0m \u001b[1;32mfor\u001b[0m \u001b[0mreg\u001b[0m \u001b[1;32min\u001b[0m \u001b[0mordered_regs\u001b[0m\u001b[1;33m[\u001b[0m\u001b[1;33m:\u001b[0m\u001b[0mreg_index\u001b[0m\u001b[1;33m]\u001b[0m\u001b[1;33m]\u001b[0m\u001b[1;33m)\u001b[0m \u001b[1;33m+\u001b[0m \u001b[0mbit\u001b[0m\u001b[1;33m.\u001b[0m\u001b[0mindex\u001b[0m\u001b[1;33m\u001b[0m\u001b[1;33m\u001b[0m\u001b[0m\n\u001b[0;32m     92\u001b[0m \u001b[1;33m\u001b[0m\u001b[0m\n\u001b[1;32m---> 93\u001b[1;33m     \u001b[0mtarget\u001b[0m \u001b[1;33m=\u001b[0m \u001b[0mcircuit\u001b[0m\u001b[1;33m.\u001b[0m\u001b[0massign_parameters\u001b[0m\u001b[1;33m(\u001b[0m\u001b[0mparameter_dict\u001b[0m\u001b[1;33m,\u001b[0m \u001b[0minplace\u001b[0m\u001b[1;33m=\u001b[0m\u001b[1;32mFalse\u001b[0m\u001b[1;33m)\u001b[0m\u001b[1;33m\u001b[0m\u001b[1;33m\u001b[0m\u001b[0m\n\u001b[0m\u001b[0;32m     94\u001b[0m \u001b[1;33m\u001b[0m\u001b[0m\n\u001b[0;32m     95\u001b[0m     \u001b[1;32mif\u001b[0m \u001b[0mequivalence_library\u001b[0m \u001b[1;32mis\u001b[0m \u001b[1;32mnot\u001b[0m \u001b[1;32mNone\u001b[0m\u001b[1;33m:\u001b[0m\u001b[1;33m\u001b[0m\u001b[1;33m\u001b[0m\u001b[0m\n",
      "\u001b[1;32m~\\Anaconda3\\lib\\site-packages\\qiskit\\circuit\\quantumcircuit.py\u001b[0m in \u001b[0;36massign_parameters\u001b[1;34m(self, param_dict, inplace)\u001b[0m\n\u001b[0;32m   1806\u001b[0m         \"\"\"\n\u001b[0;32m   1807\u001b[0m         \u001b[1;31m# replace in self or in a copy depending on the value of in_place\u001b[0m\u001b[1;33m\u001b[0m\u001b[1;33m\u001b[0m\u001b[1;33m\u001b[0m\u001b[0m\n\u001b[1;32m-> 1808\u001b[1;33m         \u001b[0mbound_circuit\u001b[0m \u001b[1;33m=\u001b[0m \u001b[0mself\u001b[0m \u001b[1;32mif\u001b[0m \u001b[0minplace\u001b[0m \u001b[1;32melse\u001b[0m \u001b[0mself\u001b[0m\u001b[1;33m.\u001b[0m\u001b[0mcopy\u001b[0m\u001b[1;33m(\u001b[0m\u001b[1;33m)\u001b[0m\u001b[1;33m\u001b[0m\u001b[1;33m\u001b[0m\u001b[0m\n\u001b[0m\u001b[0;32m   1809\u001b[0m \u001b[1;33m\u001b[0m\u001b[0m\n\u001b[0;32m   1810\u001b[0m         \u001b[1;31m# unroll the parameter dictionary (needed if e.g. it contains a ParameterVector)\u001b[0m\u001b[1;33m\u001b[0m\u001b[1;33m\u001b[0m\u001b[1;33m\u001b[0m\u001b[0m\n",
      "\u001b[1;32m~\\Anaconda3\\lib\\site-packages\\qiskit\\circuit\\library\\blueprintcircuit.py\u001b[0m in \u001b[0;36mcopy\u001b[1;34m(self, name)\u001b[0m\n\u001b[0;32m    136\u001b[0m     \u001b[1;32mdef\u001b[0m \u001b[0mcopy\u001b[0m\u001b[1;33m(\u001b[0m\u001b[0mself\u001b[0m\u001b[1;33m,\u001b[0m \u001b[0mname\u001b[0m\u001b[1;33m=\u001b[0m\u001b[1;32mNone\u001b[0m\u001b[1;33m)\u001b[0m\u001b[1;33m:\u001b[0m\u001b[1;33m\u001b[0m\u001b[1;33m\u001b[0m\u001b[0m\n\u001b[0;32m    137\u001b[0m         \u001b[1;32mif\u001b[0m \u001b[0mself\u001b[0m\u001b[1;33m.\u001b[0m\u001b[0m_data\u001b[0m \u001b[1;32mis\u001b[0m \u001b[1;32mNone\u001b[0m\u001b[1;33m:\u001b[0m\u001b[1;33m\u001b[0m\u001b[1;33m\u001b[0m\u001b[0m\n\u001b[1;32m--> 138\u001b[1;33m             \u001b[0mself\u001b[0m\u001b[1;33m.\u001b[0m\u001b[0m_build\u001b[0m\u001b[1;33m(\u001b[0m\u001b[1;33m)\u001b[0m\u001b[1;33m\u001b[0m\u001b[1;33m\u001b[0m\u001b[0m\n\u001b[0m\u001b[0;32m    139\u001b[0m         \u001b[1;32mreturn\u001b[0m \u001b[0msuper\u001b[0m\u001b[1;33m(\u001b[0m\u001b[1;33m)\u001b[0m\u001b[1;33m.\u001b[0m\u001b[0mcopy\u001b[0m\u001b[1;33m(\u001b[0m\u001b[0mname\u001b[0m\u001b[1;33m=\u001b[0m\u001b[0mname\u001b[0m\u001b[1;33m)\u001b[0m\u001b[1;33m\u001b[0m\u001b[1;33m\u001b[0m\u001b[0m\n",
      "\u001b[1;32m<ipython-input-21-3e6fd685fb44>\u001b[0m in \u001b[0;36m_build\u001b[1;34m(self)\u001b[0m\n\u001b[0;32m    174\u001b[0m     \u001b[1;32mdef\u001b[0m \u001b[0m_build\u001b[0m\u001b[1;33m(\u001b[0m\u001b[0mself\u001b[0m\u001b[1;33m)\u001b[0m \u001b[1;33m->\u001b[0m \u001b[1;32mNone\u001b[0m\u001b[1;33m:\u001b[0m\u001b[1;33m\u001b[0m\u001b[1;33m\u001b[0m\u001b[0m\n\u001b[0;32m    175\u001b[0m         \u001b[1;34m\"\"\"If not already built, build the circuit.\"\"\"\u001b[0m\u001b[1;33m\u001b[0m\u001b[1;33m\u001b[0m\u001b[0m\n\u001b[1;32m--> 176\u001b[1;33m         \u001b[1;32mif\u001b[0m \u001b[0mself\u001b[0m\u001b[1;33m.\u001b[0m\u001b[0m_is_built\u001b[0m\u001b[1;33m:\u001b[0m\u001b[1;33m\u001b[0m\u001b[1;33m\u001b[0m\u001b[0m\n\u001b[0m\u001b[0;32m    177\u001b[0m             \u001b[1;32mreturn\u001b[0m\u001b[1;33m\u001b[0m\u001b[1;33m\u001b[0m\u001b[0m\n\u001b[0;32m    178\u001b[0m \u001b[1;33m\u001b[0m\u001b[0m\n",
      "\u001b[1;31mAttributeError\u001b[0m: 'NumPyMatrix' object has no attribute '_is_built'"
     ]
    }
   ],
   "source": [
    "qc, counts = runSimul([[0, 1], [1, 0]], 3)"
   ]
  },
  {
   "cell_type": "code",
   "execution_count": 7,
   "metadata": {},
   "outputs": [
    {
     "data": {
      "image/png": "[encoded data removed]",
      "text/plain": [
       "<Figure size 1405.31x325.08 with 1 Axes>"
      ]
     },
     "execution_count": 7,
     "metadata": {},
     "output_type": "execute_result"
    }
   ],
   "source": [
    "qc.draw('mpl')"
   ]
  },
  {
   "cell_type": "code",
   "execution_count": 8,
   "metadata": {},
   "outputs": [
    {
     "data": {
      "image/png": "[encoded data removed]",
      "text/plain": [
       "<Figure size 504x360 with 1 Axes>"
      ]
     },
     "execution_count": 8,
     "metadata": {},
     "output_type": "execute_result"
    }
   ],
   "source": [
    "plot_histogram(counts)"
   ]
  },
  {
   "cell_type": "markdown",
   "metadata": {},
   "source": [
    "The results obtained are given above. The interpretation of these results is yet to be established"
   ]
  },
  {
   "cell_type": "markdown",
   "metadata": {},
   "source": [
    "# <hr>\n",
    "# Now, we take the example of the matrix\n",
    "\\begin{align}\\begin{aligned}\\newcommand{\\th}{\\frac{\\theta}{2}}\\\\A\\begin{split}=\n",
    "    \\begin{pmatrix}\n",
    "        e^{(i3\\pi/4)}\\cos(\\pi/8)         & -e^{(i5\\pi/4)}\\sin(\\pi/8) \\\\\n",
    "        e^{(i\\pi/4)}\\sin(\\pi/8) & e^{(i3\\pi/4)}\\cos(\\pi/8)\n",
    "    \\end{pmatrix}\\end{split}\\end{aligned}\\end{align}\n",
    "\n"
   ]
  },
  {
   "cell_type": "code",
   "execution_count": 9,
   "metadata": {},
   "outputs": [
    {
     "name": "stdout",
     "output_type": "stream",
     "text": [
      "\n",
      "Total {'1 1 0': 81, '1 0 1': 229, '1 1 1': 63, '0 1 1': 173, '1 0 0': 240, '0 1 0': 176, '0 0 1': 15, '0 0 0': 23}\n"
     ]
    }
   ],
   "source": [
    "qc, counts = runSimul([[0, 0], [0, 0]], 3, paramsAProvided = [np.pi/4, -np.pi/2, np.pi/2, 3*np.pi/4])\n",
    "\n",
    "# value of A passed is immaterial here, only its shape matters as we are defining the parameters"
   ]
  },
  {
   "cell_type": "code",
   "execution_count": 10,
   "metadata": {},
   "outputs": [
    {
     "data": {
      "image/png": "[encoded data removed]",
      "text/plain": [
       "<Figure size 504x360 with 1 Axes>"
      ]
     },
     "execution_count": 10,
     "metadata": {},
     "output_type": "execute_result"
    }
   ],
   "source": [
    "plot_histogram(counts)"
   ]
  },
  {
   "cell_type": "markdown",
   "metadata": {},
   "source": [
    "A plot of the measurement results is given above"
   ]
  },
  {
   "cell_type": "markdown",
   "metadata": {},
   "source": [
    "# We take the example of the matrix\n",
    "\\begin{align}\\begin{aligned}\\newcommand{\\th}{\\frac{\\theta}{2}}\\\\\\sigma_{X}\\begin{split}=\n",
    "    \\begin{pmatrix}\n",
    "        0         & 1 \\\\\n",
    "        1 & 0\n",
    "    \\end{pmatrix}\\end{split}\\end{aligned}\\end{align}"
   ]
  },
  {
   "cell_type": "code",
   "execution_count": 11,
   "metadata": {},
   "outputs": [
    {
     "name": "stdout",
     "output_type": "stream",
     "text": [
      "\n",
      "Total {'0 0 0': 510, '1 0 0': 490}\n"
     ]
    }
   ],
   "source": [
    "qc, counts = runSimul([[0, 1], [1, 0]], stages = 3)"
   ]
  },
  {
   "cell_type": "code",
   "execution_count": 12,
   "metadata": {},
   "outputs": [
    {
     "data": {
      "image/png": "[encoded data removed]",
      "text/plain": [
       "<Figure size 1405.31x325.08 with 1 Axes>"
      ]
     },
     "execution_count": 12,
     "metadata": {},
     "output_type": "execute_result"
    }
   ],
   "source": [
    "qc.draw('mpl')"
   ]
  },
  {
   "cell_type": "code",
   "execution_count": 13,
   "metadata": {},
   "outputs": [
    {
     "data": {
      "image/png": "[encoded data removed]",
      "text/plain": [
       "<Figure size 504x360 with 1 Axes>"
      ]
     },
     "execution_count": 13,
     "metadata": {},
     "output_type": "execute_result"
    }
   ],
   "source": [
    "plot_histogram(counts)"
   ]
  },
  {
   "cell_type": "code",
   "execution_count": 14,
   "metadata": {},
   "outputs": [
    {
     "data": {
      "text/plain": [
       "{'0 0 0': 510, '1 0 0': 490}"
      ]
     },
     "execution_count": 14,
     "metadata": {},
     "output_type": "execute_result"
    }
   ],
   "source": [
    "counts"
   ]
  },
  {
   "cell_type": "code",
   "execution_count": 15,
   "metadata": {},
   "outputs": [
    {
     "name": "stdout",
     "output_type": "stream",
     "text": [
      "Phase estimation output\n",
      "-----------------------\n",
      "\n",
      "Most frequent measurement:  000 \n",
      "\n",
      "Estimated phase is:  0.0\n"
     ]
    }
   ],
   "source": [
    "print(\"Phase estimation output\")\n",
    "print(\"-----------------------\\n\")\n",
    "\n",
    "a = counts.most_frequent()\n",
    "a=a.replace(\" \", \"\")\n",
    "print('Most frequent measurement: ',a,'\\n')\n",
    "\n",
    "bin_a = int(a,2) # Converts the binary value to an integer\n",
    "phase = bin_a/(2**3) # The calculation used to estimate the phase\n",
    "\n",
    "print('Estimated phase is: ',phase)"
   ]
  },
  {
   "cell_type": "markdown",
   "metadata": {},
   "source": [
    "# Estimating QCL-QPE on T-gate"
   ]
  },
  {
   "cell_type": "markdown",
   "metadata": {},
   "source": [
    "We are trying to run and compare for T-gate with the following matrix representation:\n",
    "\n",
    "\n",
    "\\begin{split}T = \\begin{pmatrix}\n",
    "        1 & 0 \\\\\n",
    "        0 & e^{i\\pi/4}\n",
    "    \\end{pmatrix}\\end{split}"
   ]
  },
  {
   "cell_type": "code",
   "execution_count": 52,
   "metadata": {},
   "outputs": [
    {
     "name": "stdout",
     "output_type": "stream",
     "text": [
      "[0j, 0, (-2.356194490192345-1.1102230246251564e-16j)]\n"
     ]
    },
    {
     "data": {
      "image/png": "[encoded data removed]",
      "text/plain": [
       "<Figure size 193.726x84.28 with 1 Axes>"
      ]
     },
     "execution_count": 52,
     "metadata": {},
     "output_type": "execute_result"
    }
   ],
   "source": [
    "import cmath\n",
    "import math\n",
    "\n",
    "############### Cross-checking the U gate for the A ############################################\n",
    "A=[[1, 0], [0,cmath.exp((1j*math.pi)/4)]]\n",
    "paramsA = mapAtoU3(A)\n",
    "print(paramsA)\n",
    "\n",
    "if((paramsA[0].imag)*(paramsA[1].imag)*(paramsA[2].imag) <= 10e-4):\n",
    "    qc = QuantumCircuit(1, name = 'u3Circuit')\n",
    "    qc.u3(paramsA[0].real, paramsA[1].real, paramsA[2].real, 0)    #https://qiskit.org/documentation/stubs/qiskit.circuit.QuantumCircuit.u3.html\n",
    "else:\n",
    "    print('Invalid Matrix - Check Note')\n",
    "\n",
    "qc.draw(output = 'mpl')"
   ]
  },
  {
   "cell_type": "code",
   "execution_count": 49,
   "metadata": {},
   "outputs": [
    {
     "name": "stdout",
     "output_type": "stream",
     "text": [
      "\n",
      "Total {'0 1 1': 62, '0 0 1': 443, '1 1 1': 419, '1 0 1': 76}\n"
     ]
    }
   ],
   "source": [
    "qc, counts = runSimul([[1, 0], [0, cmath.exp((1j*math.pi)/4)]], stages = 3)"
   ]
  },
  {
   "cell_type": "code",
   "execution_count": 50,
   "metadata": {},
   "outputs": [
    {
     "data": {
      "image/png": "[encoded data removed]",
      "text/plain": [
       "<Figure size 1405.31x325.08 with 1 Axes>"
      ]
     },
     "execution_count": 50,
     "metadata": {},
     "output_type": "execute_result"
    }
   ],
   "source": [
    "qc.draw('mpl')"
   ]
  },
  {
   "cell_type": "code",
   "execution_count": 51,
   "metadata": {},
   "outputs": [
    {
     "name": "stdout",
     "output_type": "stream",
     "text": [
      "Phase estimation output\n",
      "-----------------------\n",
      "\n",
      "Most frequent measurement:  001 \n",
      "\n",
      "Estimated phase is:  0.125\n"
     ]
    }
   ],
   "source": [
    "print(\"Phase estimation output\")\n",
    "print(\"-----------------------\\n\")\n",
    "\n",
    "a = counts.most_frequent()\n",
    "a=a.replace(\" \", \"\")\n",
    "print('Most frequent measurement: ',a,'\\n')\n",
    "\n",
    "bin_a = int(a,2) # Converts the binary value to an integer\n",
    "phase = bin_a/(2**3) # The calculation used to estimate the phase\n",
    "\n",
    "print('Estimated phase is: ',phase)"
   ]
  },
  {
   "cell_type": "markdown",
   "metadata": {},
   "source": [
    "# Running QPE for the same T gate"
   ]
  },
  {
   "cell_type": "code",
   "execution_count": 20,
   "metadata": {},
   "outputs": [],
   "source": [
    "#initialization\n",
    "import matplotlib.pyplot as plt\n",
    "import numpy as np\n",
    "import math\n",
    "\n",
    "# importing Qiskit\n",
    "from qiskit import IBMQ, Aer, transpile, assemble\n",
    "from qiskit import QuantumCircuit, ClassicalRegister, QuantumRegister\n",
    "\n",
    "# import basic plot tools\n",
    "from qiskit.visualization import plot_histogram"
   ]
  },
  {
   "cell_type": "code",
   "execution_count": 21,
   "metadata": {},
   "outputs": [],
   "source": [
    "qpe = QuantumCircuit(4, 3)\n",
    "qpe.x(3)\n",
    "for qubit in range(3):\n",
    "    qpe.h(qubit)"
   ]
  },
  {
   "cell_type": "code",
   "execution_count": 22,
   "metadata": {},
   "outputs": [],
   "source": [
    "repetitions = 1\n",
    "for counting_qubit in range(3):\n",
    "    for i in range(repetitions):\n",
    "        qpe.cp(math.pi/4, counting_qubit, 3); # This is CU\n",
    "    repetitions *= 2\n",
    "#qpe.draw()"
   ]
  },
  {
   "cell_type": "code",
   "execution_count": 23,
   "metadata": {},
   "outputs": [],
   "source": [
    "def qft_dagger(qc, n):\n",
    "    \"\"\"n-qubit QFTdagger the first n qubits in circ\"\"\"\n",
    "    # Don't forget the Swaps!\n",
    "    for qubit in range(n//2):\n",
    "        qc.swap(qubit, n-qubit-1)\n",
    "    for j in range(n):\n",
    "        for m in range(j):\n",
    "            qc.cp(-math.pi/float(2**(j-m)), m, j)\n",
    "        qc.h(j)"
   ]
  },
  {
   "cell_type": "code",
   "execution_count": 24,
   "metadata": {},
   "outputs": [],
   "source": [
    "qpe.barrier()\n",
    "# Apply inverse QFT\n",
    "qft_dagger(qpe, 3)\n",
    "# Measure\n",
    "qpe.barrier()\n",
    "for n in range(3):\n",
    "    qpe.measure(n,n)"
   ]
  },
  {
   "cell_type": "code",
   "execution_count": 25,
   "metadata": {},
   "outputs": [
    {
     "data": {
      "image/png": "[encoded data removed]",
      "text/plain": [
       "<Figure size 1591.6x686.28 with 1 Axes>"
      ]
     },
     "execution_count": 25,
     "metadata": {},
     "output_type": "execute_result"
    }
   ],
   "source": [
    "qpe.draw('mpl')"
   ]
  },
  {
   "cell_type": "code",
   "execution_count": 26,
   "metadata": {},
   "outputs": [
    {
     "name": "stderr",
     "output_type": "stream",
     "text": [
      "C:\\Users\\SudeepGhosh\\anaconda3\\lib\\site-packages\\qiskit\\utils\\deprecation.py:62: DeprecationWarning: Using a qobj for run() is deprecated as of qiskit-aer 0.9.0 and will be removed no sooner than 3 months from that release date. Transpiled circuits should now be passed directly using `backend.run(circuits, **run_options).\n",
      "  return func(*args, **kwargs)\n"
     ]
    },
    {
     "data": {
      "image/png": "[encoded data removed]",
      "text/plain": [
       "<Figure size 504x360 with 1 Axes>"
      ]
     },
     "execution_count": 26,
     "metadata": {},
     "output_type": "execute_result"
    }
   ],
   "source": [
    "aer_sim = Aer.get_backend('aer_simulator')\n",
    "shots = 2048\n",
    "t_qpe = transpile(qpe, aer_sim)\n",
    "qobj = assemble(t_qpe, shots=shots)\n",
    "results = aer_sim.run(qobj).result()\n",
    "answer = results.get_counts()\n",
    "\n",
    "plot_histogram(answer)"
   ]
  },
  {
   "cell_type": "code",
   "execution_count": 27,
   "metadata": {},
   "outputs": [
    {
     "name": "stdout",
     "output_type": "stream",
     "text": [
      "Phase estimation output\n",
      "-----------------------\n",
      "\n",
      "Most frequent measurement:  001 \n",
      "\n",
      "Estimated phase is:  0.125\n"
     ]
    }
   ],
   "source": [
    "print(\"Phase estimation output\")\n",
    "print(\"-----------------------\\n\")\n",
    "\n",
    "a = answer.most_frequent()\n",
    "\n",
    "print('Most frequent measurement: ',a,'\\n')\n",
    "\n",
    "bin_a = int(a,2) # Converts the binary value to an integer\n",
    "phase = bin_a/(2**3) # The calculation used to estimate the phase\n",
    "\n",
    "print('Estimated phase is: ',phase)"
   ]
  },
  {
   "cell_type": "markdown",
   "metadata": {},
   "source": [
    "# Running QPE for negative eigenvalues"
   ]
  },
  {
   "cell_type": "code",
   "execution_count": 28,
   "metadata": {},
   "outputs": [],
   "source": [
    "qpe = QuantumCircuit(4, 3)\n",
    "qpe.x(3)\n",
    "for qubit in range(3):\n",
    "    qpe.h(qubit)"
   ]
  },
  {
   "cell_type": "code",
   "execution_count": 29,
   "metadata": {},
   "outputs": [],
   "source": [
    "repetitions = 1\n",
    "for counting_qubit in range(3):\n",
    "    for i in range(repetitions):\n",
    "        qpe.cp(-math.pi/4, counting_qubit, 3); # This is CU\n",
    "    repetitions *= 2\n",
    "#qpe.draw()"
   ]
  },
  {
   "cell_type": "code",
   "execution_count": 30,
   "metadata": {},
   "outputs": [],
   "source": [
    "def qft_dagger(qc, n):\n",
    "    \"\"\"n-qubit QFTdagger the first n qubits in circ\"\"\"\n",
    "    # Don't forget the Swaps!\n",
    "    for qubit in range(n//2):\n",
    "        qc.swap(qubit, n-qubit-1)\n",
    "    for j in range(n):\n",
    "        for m in range(j):\n",
    "            qc.cp(-math.pi/float(2**(j-m)), m, j)\n",
    "        qc.h(j)"
   ]
  },
  {
   "cell_type": "code",
   "execution_count": 31,
   "metadata": {},
   "outputs": [],
   "source": [
    "qpe.barrier()\n",
    "# Apply inverse QFT\n",
    "qft_dagger(qpe, 3)\n",
    "# Measure\n",
    "qpe.barrier()\n",
    "for n in range(3):\n",
    "    qpe.measure(n,n)"
   ]
  },
  {
   "cell_type": "code",
   "execution_count": 32,
   "metadata": {},
   "outputs": [
    {
     "data": {
      "image/png": "[encoded data removed]",
      "text/plain": [
       "<Figure size 1591.6x686.28 with 1 Axes>"
      ]
     },
     "execution_count": 32,
     "metadata": {},
     "output_type": "execute_result"
    }
   ],
   "source": [
    "qpe.draw('mpl')"
   ]
  },
  {
   "cell_type": "code",
   "execution_count": 33,
   "metadata": {},
   "outputs": [
    {
     "data": {
      "image/png": "[encoded data removed]",
      "text/plain": [
       "<Figure size 504x360 with 1 Axes>"
      ]
     },
     "execution_count": 33,
     "metadata": {},
     "output_type": "execute_result"
    }
   ],
   "source": [
    "aer_sim = Aer.get_backend('aer_simulator')\n",
    "shots = 2048\n",
    "t_qpe = transpile(qpe, aer_sim)\n",
    "qobj = assemble(t_qpe, shots=shots)\n",
    "results = aer_sim.run(qobj).result()\n",
    "answer = results.get_counts()\n",
    "\n",
    "plot_histogram(answer)"
   ]
  },
  {
   "cell_type": "code",
   "execution_count": 34,
   "metadata": {},
   "outputs": [
    {
     "name": "stdout",
     "output_type": "stream",
     "text": [
      "Phase estimation output\n",
      "-----------------------\n",
      "\n",
      "Most frequent measurement:  111 \n",
      "\n",
      "Most frequent measurement in decimal:  7 \n",
      "\n",
      "Estimated phase is:  0.875\n"
     ]
    }
   ],
   "source": [
    "print(\"Phase estimation output\")\n",
    "print(\"-----------------------\\n\")\n",
    "\n",
    "a = answer.most_frequent()\n",
    "\n",
    "print('Most frequent measurement: ',a,'\\n')\n",
    "\n",
    "bin_a = int(a,2) # Converts the binary value to an integer\n",
    "print('Most frequent measurement in decimal: ',bin_a,'\\n')\n",
    "phase = bin_a/(2**3) # The calculation used to estimate the phase\n",
    "\n",
    "print('Estimated phase is: ',phase)"
   ]
  },
  {
   "cell_type": "code",
   "execution_count": null,
   "metadata": {},
   "outputs": [],
   "source": []
  },
  {
   "cell_type": "markdown",
   "metadata": {},
   "source": [
    "# To Do"
   ]
  },
  {
   "cell_type": "markdown",
   "metadata": {},
   "source": [
    "Algorithm 1: Optimize the selection of γ using n-bit\n",
    "estimations of eigenvalues\n",
    "Guess an overapproximation α of λmax\n",
    "γ := 1/α // Initialize scaling parameter\n",
    "x := 0\n",
    "// At each step, γ ∗ λmax ≤ 1\n",
    "while x 6= 2n − 1 do\n",
    "p := n-bit output distribution of QCL-QPE using\n",
    "unitary e\n",
    "iA2πγ and input state |bi\n",
    "x := max{j ∈ {0, ..., 2\n",
    "n − 1}| pj > 0, pj ∈ p}\n",
    "// x is an n-bit estimation of\n",
    "// 2\n",
    "n ∗ γ ∗ λmax\n",
    "if x = 0 then\n",
    "γ := γ ∗ 2\n",
    "n\n",
    "else\n",
    "γ := γ ∗ (2n−1)/x\n",
    "end\n",
    "end\n",
    "Result: γ = λ˜−1\n",
    "max, with λ˜\n",
    "max n-bit estimation of λmax"
   ]
  },
  {
   "cell_type": "code",
   "execution_count": 6,
   "metadata": {},
   "outputs": [],
   "source": [
    "def optimizeScaling(overApproxMaxEigenvalue, nBits, A, b = 0, paramsProvided = 0):   # nBits and stages might be redundant\n",
    "    scalingParaGamma = 1/overApproxMaxEigenvalue \n",
    "    x = 0\n",
    "    while x != (pow(2,nBits) - 1):\n",
    "        qc, p = runSimul(A*scalingParaGamma, nBits, b, paramsProvided)   # check unitary implementation\n",
    "        x = max(p, key=p.get)\n",
    "        #x := max{j ∈ {0, ..., 2n − 1}| pj > 0, pj ∈ p}       # what are we maximizing exactly?\n",
    "    if x == 0:\n",
    "        scalingParaGamma *= pow(2, nBits)\n",
    "    else:\n",
    "        scalingParaGamma *= (pow(2, nBits)-1)/x\n",
    "    return scalingParaGamma            # it is claimed that gamma = 1/max(eigenvalue)"
   ]
  },
  {
   "cell_type": "markdown",
   "metadata": {},
   "source": [
    "Algorithm 2: Verify if α is a n-bit overestimation of\n",
    "λmax\n",
    "Assumption: at each step, there is at least one eigenvalue of γA not\n",
    "in S\n",
    "j∈Z\n",
    "\u0002\n",
    "j − 2−(n+1), j + 2−(n+1)\u0003\n",
    "// Initialize scaling parameter\n",
    "Γ := 1/2\n",
    "n+1α\n",
    "p := n-bit output distribution of QCL-QPE using\n",
    "unitary e\n",
    "iA2πΓ and input state |bi\n",
    "if p0 6= 1 then\n",
    "Return α is not valid\n",
    "// Otherwise all eigenvalues\n",
    "// estimations would have been 0\n",
    "else\n",
    "Return α is valid\n",
    "end\n",
    "Result: Return if α is an overestimation of λmax"
   ]
  },
  {
   "cell_type": "code",
   "execution_count": 8,
   "metadata": {},
   "outputs": [],
   "source": [
    "def isOverApproxMaxEigenvalueValid(overApproxMaxEigenvalue, nBits, A, b=0, paramsProvided=0):\n",
    "    scalingParaGamma = 1/(pow(2, nBits + 1)*overApproxMaxEigenvalue)\n",
    "    qc, p = runSimul(A*scalingParaGamma, nBits, b, paramsProvided)   # check unitary implementation\n",
    "    if p[0] != 1:                                                     # what P[0] denotes in the pseudocode?\n",
    "        return 0\n",
    "        #raise ValueError('Invalid value of the over-approximated eigenvalue') \n",
    "    else:\n",
    "        return 1"
   ]
  },
  {
   "cell_type": "code",
   "execution_count": 12,
   "metadata": {},
   "outputs": [
    {
     "ename": "ValueError",
     "evalue": "math domain error",
     "output_type": "error",
     "traceback": [
      "\u001b[1;31m---------------------------------------------------------------------------\u001b[0m",
      "\u001b[1;31mValueError\u001b[0m                                Traceback (most recent call last)",
      "\u001b[1;32m<ipython-input-12-edd98efbfbcf>\u001b[0m in \u001b[0;36m<module>\u001b[1;34m\u001b[0m\n\u001b[1;32m----> 1\u001b[1;33m \u001b[0misOverApproxMaxEigenvalueValid\u001b[0m\u001b[1;33m(\u001b[0m\u001b[1;36m0.9\u001b[0m\u001b[1;33m,\u001b[0m \u001b[1;36m3\u001b[0m\u001b[1;33m,\u001b[0m \u001b[0mnp\u001b[0m\u001b[1;33m.\u001b[0m\u001b[0marray\u001b[0m\u001b[1;33m(\u001b[0m\u001b[1;33m[\u001b[0m\u001b[1;33m[\u001b[0m\u001b[1;36m1\u001b[0m\u001b[1;33m,\u001b[0m \u001b[1;36m0\u001b[0m\u001b[1;33m]\u001b[0m\u001b[1;33m,\u001b[0m \u001b[1;33m[\u001b[0m\u001b[1;36m0\u001b[0m\u001b[1;33m,\u001b[0m \u001b[0mcmath\u001b[0m\u001b[1;33m.\u001b[0m\u001b[0mexp\u001b[0m\u001b[1;33m(\u001b[0m\u001b[1;33m(\u001b[0m\u001b[1;36m1j\u001b[0m\u001b[1;33m*\u001b[0m\u001b[0mmath\u001b[0m\u001b[1;33m.\u001b[0m\u001b[0mpi\u001b[0m\u001b[1;33m)\u001b[0m\u001b[1;33m/\u001b[0m\u001b[1;36m4\u001b[0m\u001b[1;33m)\u001b[0m\u001b[1;33m]\u001b[0m\u001b[1;33m]\u001b[0m\u001b[1;33m)\u001b[0m\u001b[1;33m)\u001b[0m\u001b[1;33m\u001b[0m\u001b[1;33m\u001b[0m\u001b[0m\n\u001b[0m",
      "\u001b[1;32m<ipython-input-8-b2739085a087>\u001b[0m in \u001b[0;36misOverApproxMaxEigenvalueValid\u001b[1;34m(overApproxMaxEigenvalue, nBits, A, b, paramsProvided)\u001b[0m\n\u001b[0;32m      1\u001b[0m \u001b[1;32mdef\u001b[0m \u001b[0misOverApproxMaxEigenvalueValid\u001b[0m\u001b[1;33m(\u001b[0m\u001b[0moverApproxMaxEigenvalue\u001b[0m\u001b[1;33m,\u001b[0m \u001b[0mnBits\u001b[0m\u001b[1;33m,\u001b[0m \u001b[0mA\u001b[0m\u001b[1;33m,\u001b[0m \u001b[0mb\u001b[0m\u001b[1;33m=\u001b[0m\u001b[1;36m0\u001b[0m\u001b[1;33m,\u001b[0m \u001b[0mparamsProvided\u001b[0m\u001b[1;33m=\u001b[0m\u001b[1;36m0\u001b[0m\u001b[1;33m)\u001b[0m\u001b[1;33m:\u001b[0m\u001b[1;33m\u001b[0m\u001b[1;33m\u001b[0m\u001b[0m\n\u001b[0;32m      2\u001b[0m     \u001b[0mscalingParaGamma\u001b[0m \u001b[1;33m=\u001b[0m \u001b[1;36m1\u001b[0m\u001b[1;33m/\u001b[0m\u001b[1;33m(\u001b[0m\u001b[0mpow\u001b[0m\u001b[1;33m(\u001b[0m\u001b[1;36m2\u001b[0m\u001b[1;33m,\u001b[0m \u001b[0mnBits\u001b[0m \u001b[1;33m+\u001b[0m \u001b[1;36m1\u001b[0m\u001b[1;33m)\u001b[0m\u001b[1;33m*\u001b[0m\u001b[0moverApproxMaxEigenvalue\u001b[0m\u001b[1;33m)\u001b[0m\u001b[1;33m\u001b[0m\u001b[1;33m\u001b[0m\u001b[0m\n\u001b[1;32m----> 3\u001b[1;33m     \u001b[0mqc\u001b[0m\u001b[1;33m,\u001b[0m \u001b[0mp\u001b[0m \u001b[1;33m=\u001b[0m \u001b[0mrunSimul\u001b[0m\u001b[1;33m(\u001b[0m\u001b[0mA\u001b[0m\u001b[1;33m*\u001b[0m\u001b[0mscalingParaGamma\u001b[0m\u001b[1;33m,\u001b[0m \u001b[0mnBits\u001b[0m\u001b[1;33m,\u001b[0m \u001b[0mb\u001b[0m\u001b[1;33m,\u001b[0m \u001b[0mparamsProvided\u001b[0m\u001b[1;33m)\u001b[0m   \u001b[1;31m# check unitary implementation\u001b[0m\u001b[1;33m\u001b[0m\u001b[1;33m\u001b[0m\u001b[0m\n\u001b[0m\u001b[0;32m      4\u001b[0m     \u001b[1;32mif\u001b[0m \u001b[0mp\u001b[0m\u001b[1;33m[\u001b[0m\u001b[1;36m0\u001b[0m\u001b[1;33m]\u001b[0m \u001b[1;33m!=\u001b[0m \u001b[1;36m1\u001b[0m\u001b[1;33m:\u001b[0m                                                     \u001b[1;31m# what P[0] denotes in the pseudocode?\u001b[0m\u001b[1;33m\u001b[0m\u001b[1;33m\u001b[0m\u001b[0m\n\u001b[0;32m      5\u001b[0m         \u001b[1;32mreturn\u001b[0m \u001b[1;36m0\u001b[0m\u001b[1;33m\u001b[0m\u001b[1;33m\u001b[0m\u001b[0m\n",
      "\u001b[1;32m<ipython-input-5-c4fa5893da7f>\u001b[0m in \u001b[0;36mrunSimul\u001b[1;34m(A, stages, b, paramsAProvided)\u001b[0m\n\u001b[0;32m      1\u001b[0m \u001b[1;32mdef\u001b[0m \u001b[0mrunSimul\u001b[0m\u001b[1;33m(\u001b[0m\u001b[0mA\u001b[0m\u001b[1;33m,\u001b[0m \u001b[0mstages\u001b[0m\u001b[1;33m,\u001b[0m \u001b[0mb\u001b[0m \u001b[1;33m=\u001b[0m \u001b[1;36m0\u001b[0m\u001b[1;33m,\u001b[0m \u001b[0mparamsAProvided\u001b[0m \u001b[1;33m=\u001b[0m \u001b[1;36m0\u001b[0m\u001b[1;33m)\u001b[0m\u001b[1;33m:\u001b[0m\u001b[1;33m\u001b[0m\u001b[1;33m\u001b[0m\u001b[0m\n\u001b[0;32m      2\u001b[0m \u001b[1;33m\u001b[0m\u001b[0m\n\u001b[1;32m----> 3\u001b[1;33m     \u001b[0mqc\u001b[0m \u001b[1;33m=\u001b[0m \u001b[0mQCL_QPE\u001b[0m\u001b[1;33m(\u001b[0m\u001b[0mA\u001b[0m\u001b[1;33m,\u001b[0m \u001b[0mstages\u001b[0m\u001b[1;33m,\u001b[0m \u001b[0mb\u001b[0m\u001b[1;33m,\u001b[0m \u001b[0mparamsAProvided\u001b[0m\u001b[1;33m)\u001b[0m\u001b[1;33m\u001b[0m\u001b[1;33m\u001b[0m\u001b[0m\n\u001b[0m\u001b[0;32m      4\u001b[0m     \u001b[0mqc\u001b[0m\u001b[1;33m.\u001b[0m\u001b[0mdraw\u001b[0m\u001b[1;33m(\u001b[0m\u001b[1;33m)\u001b[0m\u001b[1;33m\u001b[0m\u001b[1;33m\u001b[0m\u001b[0m\n\u001b[0;32m      5\u001b[0m     \u001b[0mbackend\u001b[0m \u001b[1;33m=\u001b[0m \u001b[0mBasicAer\u001b[0m\u001b[1;33m.\u001b[0m\u001b[0mget_backend\u001b[0m\u001b[1;33m(\u001b[0m\u001b[1;34m'qasm_simulator'\u001b[0m\u001b[1;33m)\u001b[0m             \u001b[1;31m## Why does statevector and qsam gives different counts+ : resolved\u001b[0m\u001b[1;33m\u001b[0m\u001b[1;33m\u001b[0m\u001b[0m\n",
      "\u001b[1;32m<ipython-input-4-d567a0e0f16e>\u001b[0m in \u001b[0;36mQCL_QPE\u001b[1;34m(A, stages, b, paramsAProvided)\u001b[0m\n\u001b[0;32m     16\u001b[0m         \u001b[0mqc\u001b[0m\u001b[1;33m.\u001b[0m\u001b[0mh\u001b[0m\u001b[1;33m(\u001b[0m\u001b[0mancilla\u001b[0m\u001b[1;33m[\u001b[0m\u001b[1;36m0\u001b[0m\u001b[1;33m]\u001b[0m\u001b[1;33m)\u001b[0m\u001b[1;33m\u001b[0m\u001b[1;33m\u001b[0m\u001b[0m\n\u001b[0;32m     17\u001b[0m         \u001b[1;32mif\u001b[0m \u001b[0mparamsAProvided\u001b[0m \u001b[1;33m==\u001b[0m \u001b[1;36m0\u001b[0m\u001b[1;33m:\u001b[0m\u001b[1;33m\u001b[0m\u001b[1;33m\u001b[0m\u001b[0m\n\u001b[1;32m---> 18\u001b[1;33m             \u001b[0mparamsA\u001b[0m \u001b[1;33m=\u001b[0m \u001b[0mmapAtoU3\u001b[0m\u001b[1;33m(\u001b[0m\u001b[0mA\u001b[0m\u001b[1;33m)\u001b[0m\u001b[1;33m\u001b[0m\u001b[1;33m\u001b[0m\u001b[0m\n\u001b[0m\u001b[0;32m     19\u001b[0m         \u001b[1;32melse\u001b[0m\u001b[1;33m:\u001b[0m\u001b[1;33m\u001b[0m\u001b[1;33m\u001b[0m\u001b[0m\n\u001b[0;32m     20\u001b[0m             \u001b[0mparamsA\u001b[0m \u001b[1;33m=\u001b[0m \u001b[0mparamsAProvided\u001b[0m\u001b[1;33m\u001b[0m\u001b[1;33m\u001b[0m\u001b[0m\n",
      "\u001b[1;32m<ipython-input-2-83041d0449a0>\u001b[0m in \u001b[0;36mmapAtoU3\u001b[1;34m(A)\u001b[0m\n\u001b[0;32m     37\u001b[0m         \u001b[0mlambdaA\u001b[0m \u001b[1;33m=\u001b[0m \u001b[1;33m-\u001b[0m\u001b[1;36m1j\u001b[0m\u001b[1;33m*\u001b[0m\u001b[0mcmath\u001b[0m\u001b[1;33m.\u001b[0m\u001b[0mlog\u001b[0m\u001b[1;33m(\u001b[0m\u001b[0mlimDivision\u001b[0m\u001b[1;33m(\u001b[0m\u001b[0ma22\u001b[0m\u001b[1;33m,\u001b[0m \u001b[0mcmath\u001b[0m\u001b[1;33m.\u001b[0m\u001b[0mcos\u001b[0m\u001b[1;33m(\u001b[0m\u001b[0mthetaA\u001b[0m\u001b[1;33m/\u001b[0m\u001b[1;36m2\u001b[0m\u001b[1;33m)\u001b[0m\u001b[1;33m)\u001b[0m\u001b[1;33m)\u001b[0m\u001b[1;33m\u001b[0m\u001b[1;33m\u001b[0m\u001b[0m\n\u001b[0;32m     38\u001b[0m     \u001b[1;32melse\u001b[0m\u001b[1;33m:\u001b[0m\u001b[1;33m\u001b[0m\u001b[1;33m\u001b[0m\u001b[0m\n\u001b[1;32m---> 39\u001b[1;33m         \u001b[0mphiA\u001b[0m \u001b[1;33m=\u001b[0m \u001b[1;33m-\u001b[0m\u001b[1;36m1j\u001b[0m\u001b[1;33m*\u001b[0m\u001b[0mcmath\u001b[0m\u001b[1;33m.\u001b[0m\u001b[0mlog\u001b[0m\u001b[1;33m(\u001b[0m\u001b[0mlimDivision\u001b[0m\u001b[1;33m(\u001b[0m\u001b[0ma21\u001b[0m\u001b[1;33m,\u001b[0m \u001b[0mcmath\u001b[0m\u001b[1;33m.\u001b[0m\u001b[0msin\u001b[0m\u001b[1;33m(\u001b[0m\u001b[0mthetaA\u001b[0m\u001b[1;33m/\u001b[0m\u001b[1;36m2\u001b[0m\u001b[1;33m)\u001b[0m\u001b[1;33m)\u001b[0m\u001b[1;33m)\u001b[0m\u001b[1;33m\u001b[0m\u001b[1;33m\u001b[0m\u001b[0m\n\u001b[0m\u001b[0;32m     40\u001b[0m         \u001b[0mlambdaA\u001b[0m \u001b[1;33m=\u001b[0m \u001b[1;33m-\u001b[0m\u001b[1;36m1j\u001b[0m\u001b[1;33m*\u001b[0m\u001b[0mcmath\u001b[0m\u001b[1;33m.\u001b[0m\u001b[0mlog\u001b[0m\u001b[1;33m(\u001b[0m\u001b[0mlimDivision\u001b[0m\u001b[1;33m(\u001b[0m\u001b[1;33m-\u001b[0m\u001b[0ma12\u001b[0m\u001b[1;33m,\u001b[0m \u001b[0mcmath\u001b[0m\u001b[1;33m.\u001b[0m\u001b[0msin\u001b[0m\u001b[1;33m(\u001b[0m\u001b[0mthetaA\u001b[0m\u001b[1;33m/\u001b[0m\u001b[1;36m2\u001b[0m\u001b[1;33m)\u001b[0m\u001b[1;33m)\u001b[0m\u001b[1;33m)\u001b[0m\u001b[1;33m\u001b[0m\u001b[1;33m\u001b[0m\u001b[0m\n\u001b[0;32m     41\u001b[0m \u001b[1;33m\u001b[0m\u001b[0m\n",
      "\u001b[1;31mValueError\u001b[0m: math domain error"
     ]
    }
   ],
   "source": [
    "isOverApproxMaxEigenvalueValid(0.9, 3, np.array([[1, 0], [0, cmath.exp((1j*math.pi)/4)]]))"
   ]
  },
  {
   "cell_type": "code",
   "execution_count": 15,
   "metadata": {},
   "outputs": [
    {
     "ename": "ValueError",
     "evalue": "math domain error",
     "output_type": "error",
     "traceback": [
      "\u001b[1;31m---------------------------------------------------------------------------\u001b[0m",
      "\u001b[1;31mValueError\u001b[0m                                Traceback (most recent call last)",
      "\u001b[1;32m<ipython-input-15-75744c173194>\u001b[0m in \u001b[0;36m<module>\u001b[1;34m\u001b[0m\n\u001b[1;32m----> 1\u001b[1;33m \u001b[0moptimizeScaling\u001b[0m\u001b[1;33m(\u001b[0m\u001b[1;36m0.9\u001b[0m\u001b[1;33m,\u001b[0m \u001b[1;36m3\u001b[0m\u001b[1;33m,\u001b[0m \u001b[0mnp\u001b[0m\u001b[1;33m.\u001b[0m\u001b[0marray\u001b[0m\u001b[1;33m(\u001b[0m\u001b[1;33m[\u001b[0m\u001b[1;33m[\u001b[0m\u001b[1;36m1\u001b[0m\u001b[1;33m,\u001b[0m \u001b[1;36m0\u001b[0m\u001b[1;33m]\u001b[0m\u001b[1;33m,\u001b[0m \u001b[1;33m[\u001b[0m\u001b[1;36m0\u001b[0m\u001b[1;33m,\u001b[0m \u001b[0mcmath\u001b[0m\u001b[1;33m.\u001b[0m\u001b[0mexp\u001b[0m\u001b[1;33m(\u001b[0m\u001b[1;33m(\u001b[0m\u001b[1;36m1j\u001b[0m\u001b[1;33m*\u001b[0m\u001b[0mmath\u001b[0m\u001b[1;33m.\u001b[0m\u001b[0mpi\u001b[0m\u001b[1;33m)\u001b[0m\u001b[1;33m/\u001b[0m\u001b[1;36m4\u001b[0m\u001b[1;33m)\u001b[0m\u001b[1;33m]\u001b[0m\u001b[1;33m]\u001b[0m\u001b[1;33m)\u001b[0m\u001b[1;33m)\u001b[0m\u001b[1;33m\u001b[0m\u001b[1;33m\u001b[0m\u001b[0m\n\u001b[0m",
      "\u001b[1;32m<ipython-input-6-8d22fd841e4d>\u001b[0m in \u001b[0;36moptimizeScaling\u001b[1;34m(overApproxMaxEigenvalue, nBits, A, b, paramsProvided)\u001b[0m\n\u001b[0;32m      3\u001b[0m     \u001b[0mx\u001b[0m \u001b[1;33m=\u001b[0m \u001b[1;36m0\u001b[0m\u001b[1;33m\u001b[0m\u001b[1;33m\u001b[0m\u001b[0m\n\u001b[0;32m      4\u001b[0m     \u001b[1;32mwhile\u001b[0m \u001b[0mx\u001b[0m \u001b[1;33m!=\u001b[0m \u001b[1;33m(\u001b[0m\u001b[0mpow\u001b[0m\u001b[1;33m(\u001b[0m\u001b[1;36m2\u001b[0m\u001b[1;33m,\u001b[0m\u001b[0mnBits\u001b[0m\u001b[1;33m)\u001b[0m \u001b[1;33m-\u001b[0m \u001b[1;36m1\u001b[0m\u001b[1;33m)\u001b[0m\u001b[1;33m:\u001b[0m\u001b[1;33m\u001b[0m\u001b[1;33m\u001b[0m\u001b[0m\n\u001b[1;32m----> 5\u001b[1;33m         \u001b[0mqc\u001b[0m\u001b[1;33m,\u001b[0m \u001b[0mp\u001b[0m \u001b[1;33m=\u001b[0m \u001b[0mrunSimul\u001b[0m\u001b[1;33m(\u001b[0m\u001b[0mA\u001b[0m\u001b[1;33m*\u001b[0m\u001b[0mscalingParaGamma\u001b[0m\u001b[1;33m,\u001b[0m \u001b[0mnBits\u001b[0m\u001b[1;33m,\u001b[0m \u001b[0mb\u001b[0m\u001b[1;33m,\u001b[0m \u001b[0mparamsProvided\u001b[0m\u001b[1;33m)\u001b[0m   \u001b[1;31m# check unitary implementation\u001b[0m\u001b[1;33m\u001b[0m\u001b[1;33m\u001b[0m\u001b[0m\n\u001b[0m\u001b[0;32m      6\u001b[0m         \u001b[0mx\u001b[0m \u001b[1;33m=\u001b[0m \u001b[0mmax\u001b[0m\u001b[1;33m(\u001b[0m\u001b[0mp\u001b[0m\u001b[1;33m,\u001b[0m \u001b[0mkey\u001b[0m\u001b[1;33m=\u001b[0m\u001b[0mp\u001b[0m\u001b[1;33m.\u001b[0m\u001b[0mget\u001b[0m\u001b[1;33m)\u001b[0m\u001b[1;33m\u001b[0m\u001b[1;33m\u001b[0m\u001b[0m\n\u001b[0;32m      7\u001b[0m         \u001b[1;31m#x := max{j ∈ {0, ..., 2n − 1}| pj > 0, pj ∈ p}       # what are we maximizing exactly?\u001b[0m\u001b[1;33m\u001b[0m\u001b[1;33m\u001b[0m\u001b[1;33m\u001b[0m\u001b[0m\n",
      "\u001b[1;32m<ipython-input-5-c4fa5893da7f>\u001b[0m in \u001b[0;36mrunSimul\u001b[1;34m(A, stages, b, paramsAProvided)\u001b[0m\n\u001b[0;32m      1\u001b[0m \u001b[1;32mdef\u001b[0m \u001b[0mrunSimul\u001b[0m\u001b[1;33m(\u001b[0m\u001b[0mA\u001b[0m\u001b[1;33m,\u001b[0m \u001b[0mstages\u001b[0m\u001b[1;33m,\u001b[0m \u001b[0mb\u001b[0m \u001b[1;33m=\u001b[0m \u001b[1;36m0\u001b[0m\u001b[1;33m,\u001b[0m \u001b[0mparamsAProvided\u001b[0m \u001b[1;33m=\u001b[0m \u001b[1;36m0\u001b[0m\u001b[1;33m)\u001b[0m\u001b[1;33m:\u001b[0m\u001b[1;33m\u001b[0m\u001b[1;33m\u001b[0m\u001b[0m\n\u001b[0;32m      2\u001b[0m \u001b[1;33m\u001b[0m\u001b[0m\n\u001b[1;32m----> 3\u001b[1;33m     \u001b[0mqc\u001b[0m \u001b[1;33m=\u001b[0m \u001b[0mQCL_QPE\u001b[0m\u001b[1;33m(\u001b[0m\u001b[0mA\u001b[0m\u001b[1;33m,\u001b[0m \u001b[0mstages\u001b[0m\u001b[1;33m,\u001b[0m \u001b[0mb\u001b[0m\u001b[1;33m,\u001b[0m \u001b[0mparamsAProvided\u001b[0m\u001b[1;33m)\u001b[0m\u001b[1;33m\u001b[0m\u001b[1;33m\u001b[0m\u001b[0m\n\u001b[0m\u001b[0;32m      4\u001b[0m     \u001b[0mqc\u001b[0m\u001b[1;33m.\u001b[0m\u001b[0mdraw\u001b[0m\u001b[1;33m(\u001b[0m\u001b[1;33m)\u001b[0m\u001b[1;33m\u001b[0m\u001b[1;33m\u001b[0m\u001b[0m\n\u001b[0;32m      5\u001b[0m     \u001b[0mbackend\u001b[0m \u001b[1;33m=\u001b[0m \u001b[0mBasicAer\u001b[0m\u001b[1;33m.\u001b[0m\u001b[0mget_backend\u001b[0m\u001b[1;33m(\u001b[0m\u001b[1;34m'qasm_simulator'\u001b[0m\u001b[1;33m)\u001b[0m             \u001b[1;31m## Why does statevector and qsam gives different counts+ : resolved\u001b[0m\u001b[1;33m\u001b[0m\u001b[1;33m\u001b[0m\u001b[0m\n",
      "\u001b[1;32m<ipython-input-4-d567a0e0f16e>\u001b[0m in \u001b[0;36mQCL_QPE\u001b[1;34m(A, stages, b, paramsAProvided)\u001b[0m\n\u001b[0;32m     16\u001b[0m         \u001b[0mqc\u001b[0m\u001b[1;33m.\u001b[0m\u001b[0mh\u001b[0m\u001b[1;33m(\u001b[0m\u001b[0mancilla\u001b[0m\u001b[1;33m[\u001b[0m\u001b[1;36m0\u001b[0m\u001b[1;33m]\u001b[0m\u001b[1;33m)\u001b[0m\u001b[1;33m\u001b[0m\u001b[1;33m\u001b[0m\u001b[0m\n\u001b[0;32m     17\u001b[0m         \u001b[1;32mif\u001b[0m \u001b[0mparamsAProvided\u001b[0m \u001b[1;33m==\u001b[0m \u001b[1;36m0\u001b[0m\u001b[1;33m:\u001b[0m\u001b[1;33m\u001b[0m\u001b[1;33m\u001b[0m\u001b[0m\n\u001b[1;32m---> 18\u001b[1;33m             \u001b[0mparamsA\u001b[0m \u001b[1;33m=\u001b[0m \u001b[0mmapAtoU3\u001b[0m\u001b[1;33m(\u001b[0m\u001b[0mA\u001b[0m\u001b[1;33m)\u001b[0m\u001b[1;33m\u001b[0m\u001b[1;33m\u001b[0m\u001b[0m\n\u001b[0m\u001b[0;32m     19\u001b[0m         \u001b[1;32melse\u001b[0m\u001b[1;33m:\u001b[0m\u001b[1;33m\u001b[0m\u001b[1;33m\u001b[0m\u001b[0m\n\u001b[0;32m     20\u001b[0m             \u001b[0mparamsA\u001b[0m \u001b[1;33m=\u001b[0m \u001b[0mparamsAProvided\u001b[0m\u001b[1;33m\u001b[0m\u001b[1;33m\u001b[0m\u001b[0m\n",
      "\u001b[1;32m<ipython-input-2-83041d0449a0>\u001b[0m in \u001b[0;36mmapAtoU3\u001b[1;34m(A)\u001b[0m\n\u001b[0;32m     37\u001b[0m         \u001b[0mlambdaA\u001b[0m \u001b[1;33m=\u001b[0m \u001b[1;33m-\u001b[0m\u001b[1;36m1j\u001b[0m\u001b[1;33m*\u001b[0m\u001b[0mcmath\u001b[0m\u001b[1;33m.\u001b[0m\u001b[0mlog\u001b[0m\u001b[1;33m(\u001b[0m\u001b[0mlimDivision\u001b[0m\u001b[1;33m(\u001b[0m\u001b[0ma22\u001b[0m\u001b[1;33m,\u001b[0m \u001b[0mcmath\u001b[0m\u001b[1;33m.\u001b[0m\u001b[0mcos\u001b[0m\u001b[1;33m(\u001b[0m\u001b[0mthetaA\u001b[0m\u001b[1;33m/\u001b[0m\u001b[1;36m2\u001b[0m\u001b[1;33m)\u001b[0m\u001b[1;33m)\u001b[0m\u001b[1;33m)\u001b[0m\u001b[1;33m\u001b[0m\u001b[1;33m\u001b[0m\u001b[0m\n\u001b[0;32m     38\u001b[0m     \u001b[1;32melse\u001b[0m\u001b[1;33m:\u001b[0m\u001b[1;33m\u001b[0m\u001b[1;33m\u001b[0m\u001b[0m\n\u001b[1;32m---> 39\u001b[1;33m         \u001b[0mphiA\u001b[0m \u001b[1;33m=\u001b[0m \u001b[1;33m-\u001b[0m\u001b[1;36m1j\u001b[0m\u001b[1;33m*\u001b[0m\u001b[0mcmath\u001b[0m\u001b[1;33m.\u001b[0m\u001b[0mlog\u001b[0m\u001b[1;33m(\u001b[0m\u001b[0mlimDivision\u001b[0m\u001b[1;33m(\u001b[0m\u001b[0ma21\u001b[0m\u001b[1;33m,\u001b[0m \u001b[0mcmath\u001b[0m\u001b[1;33m.\u001b[0m\u001b[0msin\u001b[0m\u001b[1;33m(\u001b[0m\u001b[0mthetaA\u001b[0m\u001b[1;33m/\u001b[0m\u001b[1;36m2\u001b[0m\u001b[1;33m)\u001b[0m\u001b[1;33m)\u001b[0m\u001b[1;33m)\u001b[0m\u001b[1;33m\u001b[0m\u001b[1;33m\u001b[0m\u001b[0m\n\u001b[0m\u001b[0;32m     40\u001b[0m         \u001b[0mlambdaA\u001b[0m \u001b[1;33m=\u001b[0m \u001b[1;33m-\u001b[0m\u001b[1;36m1j\u001b[0m\u001b[1;33m*\u001b[0m\u001b[0mcmath\u001b[0m\u001b[1;33m.\u001b[0m\u001b[0mlog\u001b[0m\u001b[1;33m(\u001b[0m\u001b[0mlimDivision\u001b[0m\u001b[1;33m(\u001b[0m\u001b[1;33m-\u001b[0m\u001b[0ma12\u001b[0m\u001b[1;33m,\u001b[0m \u001b[0mcmath\u001b[0m\u001b[1;33m.\u001b[0m\u001b[0msin\u001b[0m\u001b[1;33m(\u001b[0m\u001b[0mthetaA\u001b[0m\u001b[1;33m/\u001b[0m\u001b[1;36m2\u001b[0m\u001b[1;33m)\u001b[0m\u001b[1;33m)\u001b[0m\u001b[1;33m)\u001b[0m\u001b[1;33m\u001b[0m\u001b[1;33m\u001b[0m\u001b[0m\n\u001b[0;32m     41\u001b[0m \u001b[1;33m\u001b[0m\u001b[0m\n",
      "\u001b[1;31mValueError\u001b[0m: math domain error"
     ]
    }
   ],
   "source": [
    "optimizeScaling(0.9, 3, np.array([[1, 0], [0, cmath.exp((1j*math.pi)/4)]]))"
   ]
  },
  {
   "cell_type": "code",
   "execution_count": null,
   "metadata": {},
   "outputs": [],
   "source": []
  },
  {
   "cell_type": "code",
   "execution_count": null,
   "metadata": {},
   "outputs": [],
   "source": []
  },
  {
   "cell_type": "code",
   "execution_count": null,
   "metadata": {},
   "outputs": [],
   "source": []
  },
  {
   "cell_type": "code",
   "execution_count": null,
   "metadata": {},
   "outputs": [],
   "source": []
  },
  {
   "cell_type": "code",
   "execution_count": null,
   "metadata": {},
   "outputs": [],
   "source": []
  },
  {
   "cell_type": "code",
   "execution_count": null,
   "metadata": {},
   "outputs": [],
   "source": []
  },
  {
   "cell_type": "code",
   "execution_count": null,
   "metadata": {},
   "outputs": [],
   "source": []
  },
  {
   "cell_type": "code",
   "execution_count": null,
   "metadata": {},
   "outputs": [],
   "source": []
  },
  {
   "cell_type": "code",
   "execution_count": null,
   "metadata": {},
   "outputs": [],
   "source": []
  },
  {
   "cell_type": "code",
   "execution_count": null,
   "metadata": {},
   "outputs": [],
   "source": []
  },
  {
   "cell_type": "code",
   "execution_count": null,
   "metadata": {},
   "outputs": [],
   "source": []
  },
  {
   "cell_type": "code",
   "execution_count": null,
   "metadata": {},
   "outputs": [],
   "source": []
  },
  {
   "cell_type": "code",
   "execution_count": null,
   "metadata": {},
   "outputs": [],
   "source": []
  },
  {
   "cell_type": "markdown",
   "metadata": {},
   "source": [
    "# Estimating Pi qiskit"
   ]
  },
  {
   "cell_type": "code",
   "execution_count": null,
   "metadata": {},
   "outputs": [],
   "source": [
    "## import the necessary tools for our work\n",
    "from IPython.display import clear_output\n",
    "from qiskit import *\n",
    "from qiskit.visualization import plot_histogram\n",
    "import numpy as np\n",
    "import matplotlib.pyplot as plotter\n",
    "from qiskit.tools.monitor import job_monitor\n",
    "# Visualisation settings\n",
    "import seaborn as sns, operator\n",
    "sns.set_style(\"dark\")\n",
    "pi = np.pi"
   ]
  },
  {
   "cell_type": "code",
   "execution_count": null,
   "metadata": {},
   "outputs": [],
   "source": [
    "def qft_dagger(circ_, n_qubits, A):\n",
    "    \"\"\"n-qubit QFTdagger the first n qubits in circ\"\"\"\n",
    "    for qubit in range(int(n_qubits/2)):\n",
    "        circ_.swap(qubit, n_qubits-qubit-1)\n",
    "    for j in range(0,n_qubits):\n",
    "        for m in range(j):\n",
    "            paramsA = mapAtoU3(A)\n",
    "            #circ_.cp(-np.pi/float(2**(j-m)), m, j)\n",
    "            circ_.cu(paramsA[0], paramsA[1], paramsA[2], paramsA[3], m, j);\n",
    "        circ_.h(j)\n",
    "        \n",
    "def qpe_pre(circ_, n_qubits):\n",
    "    circ_.h(range(n_qubits))\n",
    "    circ_.x(n_qubits)\n",
    "\n",
    "    for x in reversed(range(n_qubits)):\n",
    "        for _ in range(2**(n_qubits-1-x)):\n",
    "            circ_.cp(1, n_qubits-1-x, n_qubits)\n",
    "            \n"
   ]
  },
  {
   "cell_type": "code",
   "execution_count": null,
   "metadata": {},
   "outputs": [],
   "source": [
    "def run_job(circ, backend, shots=1000, optimization_level=0):\n",
    "    t_circ = transpile(circ, backend, optimization_level=optimization_level)\n",
    "    qobj = assemble(t_circ, shots=shots)\n",
    "    job = backend.run(qobj)\n",
    "    job_monitor(job)\n",
    "    return job.result().get_counts()"
   ]
  },
  {
   "cell_type": "code",
   "execution_count": null,
   "metadata": {},
   "outputs": [],
   "source": [
    "def get_pi_estimate(n_qubits,A):\n",
    "\n",
    "    # create the circuit\n",
    "    circ = QuantumCircuit(n_qubits + 1, n_qubits)\n",
    "    # create the input state\n",
    "    qpe_pre(circ, n_qubits)\n",
    "    # apply a barrier\n",
    "    circ.barrier()\n",
    "    # apply the inverse fourier transform\n",
    "    qft_dagger(circ, n_qubits, A)\n",
    "    # apply  a barrier\n",
    "    circ.barrier()\n",
    "    # measure all but the last qubits\n",
    "    circ.measure(range(n_qubits), range(n_qubits))\n",
    "\n",
    "    # run the job and get the results\n",
    "    counts = run_job(circ, backend=simulator, shots=10000, optimization_level=0)\n",
    "    # print(counts) \n",
    "\n",
    "    # get the count that occurred most frequently\n",
    "    max_counts_result = max(counts, key=counts.get)\n",
    "    max_counts_result = int(max_counts_result, 2)\n",
    "    \n",
    "    # solve for pi from the measured counts\n",
    "    theta = max_counts_result/2**n_qubits\n",
    "    return (1./(2*theta))"
   ]
  },
  {
   "cell_type": "code",
   "execution_count": null,
   "metadata": {},
   "outputs": [],
   "source": [
    "simulator = Aer.get_backend('aer_simulator')"
   ]
  },
  {
   "cell_type": "code",
   "execution_count": null,
   "metadata": {},
   "outputs": [],
   "source": [
    "A=[[0, 1], [1, 0]]\n",
    "thisnq_pi_estimate = get_pi_estimate(3, A)"
   ]
  },
  {
   "cell_type": "code",
   "execution_count": null,
   "metadata": {},
   "outputs": [],
   "source": [
    "nqs = list(range(2,12+1))\n",
    "pi_estimates = []\n",
    "for nq in nqs:\n",
    "    print(\"Sudeep == \",nq)\n",
    "    thisnq_pi_estimate = get_pi_estimate(nq)\n",
    "    pi_estimates.append(thisnq_pi_estimate)\n",
    "    print(f\"{nq} qubits, pi ≈ {thisnq_pi_estimate}\")"
   ]
  },
  {
   "cell_type": "code",
   "execution_count": null,
   "metadata": {},
   "outputs": [],
   "source": []
  }
 ],
 "metadata": {
  "kernelspec": {
   "display_name": "Python 3",
   "language": "python",
   "name": "python3"
  },
  "language_info": {
   "codemirror_mode": {
    "name": "ipython",
    "version": 3
   },
   "file_extension": ".py",
   "mimetype": "text/x-python",
   "name": "python",
   "nbconvert_exporter": "python",
   "pygments_lexer": "ipython3",
   "version": "3.7.3"
  },
  "latex_envs": {
   "LaTeX_envs_menu_present": true,
   "autoclose": false,
   "autocomplete": true,
   "bibliofile": "biblio.bib",
   "cite_by": "apalike",
   "current_citInitial": 1,
   "eqLabelWithNumbers": true,
   "eqNumInitial": 1,
   "hotkeys": {
    "equation": "Ctrl-E",
    "itemize": "Ctrl-I"
   },
   "labels_anchors": false,
   "latex_user_defs": false,
   "report_style_numbering": false,
   "user_envs_cfg": false
  }
 },
 "nbformat": 4,
 "nbformat_minor": 4
}
