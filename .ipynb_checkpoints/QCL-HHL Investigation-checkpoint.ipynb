{
 "cells": [
  {
   "cell_type": "markdown",
   "metadata": {},
   "source": [
    "# Author of the code is Sudeep Ghosh"
   ]
  },
  {
   "cell_type": "code",
   "execution_count": 1,
   "metadata": {},
   "outputs": [
    {
     "name": "stderr",
     "output_type": "stream",
     "text": [
      "C:\\Users\\ASUS\\Anaconda3\\lib\\site-packages\\numpy\\_distributor_init.py:32: UserWarning: loaded more than 1 DLL from .libs:\n",
      "C:\\Users\\ASUS\\Anaconda3\\lib\\site-packages\\numpy\\.libs\\libopenblas.QVLO2T66WEPI7JZ63PS3HMOHFEY472BC.gfortran-win_amd64.dll\n",
      "C:\\Users\\ASUS\\Anaconda3\\lib\\site-packages\\numpy\\.libs\\libopenblas.WCDJNK7YVMPZQ2ME2ZZHJJRJ3JIKNDB7.gfortran-win_amd64.dll\n",
      "  stacklevel=1)\n"
     ]
    }
   ],
   "source": [
    "from qiskit.quantum_info import Operator\n",
    "from qiskit import QuantumCircuit, ClassicalRegister, QuantumRegister\n",
    "from qiskit.visualization import plot_histogram\n",
    "import numpy as np\n",
    "import math"
   ]
  },
  {
   "cell_type": "code",
   "execution_count": 2,
   "metadata": {},
   "outputs": [
    {
     "name": "stdout",
     "output_type": "stream",
     "text": [
      "[(3.141592653589793+0j), (1.5707963267948966+0j), (1.5707963267948966-0j)]\n"
     ]
    },
    {
     "name": "stderr",
     "output_type": "stream",
     "text": [
      "C:\\Users\\ASUS\\Anaconda3\\lib\\site-packages\\ipykernel_launcher.py:45: DeprecationWarning: The QuantumCircuit.u3 method is deprecated as of 0.16.0. It will be removed no earlier than 3 months after the release date. You should use QuantumCircuit.u instead, which acts identically. Alternatively, you can decompose u3 in terms of QuantumCircuit.p and QuantumCircuit.sx: u3(ϴ,φ,λ) = p(φ+π) sx p(ϴ+π) sx p(λ) (2 pulses on hardware).\n"
     ]
    },
    {
     "data": {
      "text/plain": [
       "<Figure size 185.453x117.056 with 1 Axes>"
      ]
     },
     "execution_count": 2,
     "metadata": {},
     "output_type": "execute_result"
    }
   ],
   "source": [
    "#https://qiskit.org/textbook/ch-applications/vqe-molecules.html\n",
    "#\"Up to a global phase, any possible single qubit transformation may be implemented by appropriately setting these parameters\"\n",
    "\n",
    "# The rationale behind this program is to calculate the parameters theta. lambda, and phi \n",
    "# from the given values of the matrix elements in the normalized unitary matrix A\n",
    "\n",
    "# functions like limDivision, etc. are used to overcome implementational issues\n",
    "\n",
    "# Note - This is not a robust implementation, as the present Qiskit implementation of the u3 gate \n",
    "# does not accept complex angle values. This would mean that the first element of the matrix A MUST be real (cos(theta/2))  \n",
    "\n",
    "\n",
    "import numpy as np\n",
    "import cmath\n",
    "from qiskit import *\n",
    "\n",
    "#input 2x2 matrix\n",
    "a11 = 0 \n",
    "a12 = -1J  \n",
    "a21 = 1J  \n",
    "a22 = 0  \n",
    "\n",
    "\n",
    "def limDivision(x, y):\n",
    "    if(y != 0):\n",
    "        return x/y\n",
    "    else:\n",
    "        return 0\n",
    "\n",
    "def mapAtoU3(A):\n",
    "    thetaA = 2*cmath.acos(a11)\n",
    "    phiA = 1j*cmath.log(limDivision(-a21, cmath.sin(thetaA/2)))\n",
    "    lambdaA = -1j*cmath.log(limDivision(-a12, cmath.sin(thetaA/2)))\n",
    "    \n",
    "    paramsA = [thetaA, phiA, lambdaA]\n",
    "    \n",
    "    return paramsA\n",
    "\n",
    "A = [[a11, a12], [a21, a22]] \n",
    "paramsA = mapAtoU3(A)\n",
    "print(paramsA)\n",
    "\n",
    "if((paramsA[0].imag)*(paramsA[1].imag)*(paramsA[2].imag) <= 10e-4):\n",
    "    qc = QuantumCircuit(1, name = 'u3Circuit')\n",
    "    qc.u3(paramsA[0].real, paramsA[1].real, paramsA[2].real, 0)    #https://qiskit.org/documentation/stubs/qiskit.circuit.QuantumCircuit.u3.html\n",
    "else:\n",
    "    print('Invalid Matrix - Check Note')\n",
    "\n",
    "qc.draw(output = 'mpl')"
   ]
  },
  {
   "cell_type": "code",
   "execution_count": 3,
   "metadata": {},
   "outputs": [],
   "source": [
    "def QCL_QPE(n, nb, nc):                               # for now, only nc seems to change the circuit substantially\n",
    "    ancilla = QuantumRegister(n, name='ancilla')      # n, nb only increase the number of qubits, but do not affect the operation\n",
    "    input = QuantumRegister(nb, name='input')\n",
    "    measurement = ClassicalRegister(nc, name='c')\n",
    "\n",
    "    qc = QuantumCircuit(ancilla, input, measurement)\n",
    "    # for qubitNo in range(1,nc):\n",
    "    \n",
    "    \n",
    "    for qubitNo in range(1, nc+1):         # repeat nc times\n",
    "        qc.h(ancilla[0])                     # H on first ancilla\n",
    "        qc.cz(ancilla[0], input[0])          # Z on first input controlled by first ancilla\n",
    "        # qc.cu1(-np.pi,ancilla[0],input[0])\n",
    "        i = 1\n",
    "        while i < qubitNo:                   # for Jth time, repeat (J-1) times \n",
    "            qc.ry(np.pi, ancilla[0])           # Ry(pi) on first ancilla\n",
    "            i = i+1                 \n",
    "        qc.h(ancilla[0])                     # H on first ancilla  \n",
    "        qc.measure(ancilla[0], measurement[qubitNo - 1]) # measure first ancilla, store results in memory\n",
    "        qc.reset(ancilla[0])                             # reset first ancilla\n",
    "    return qc\n",
    "\n",
    "\n",
    "qc = QCL_QPE(1, 1, 6)"
   ]
  },
  {
   "cell_type": "code",
   "execution_count": null,
   "metadata": {},
   "outputs": [],
   "source": [
    "# Pseudo-code\n",
    "\n",
    "    # repeat nc times\n",
    "        # H on first ancilla\n",
    "        # Z on first input controlled by first ancilla\n",
    "        # for Jth time, repeat (J-1) times \n",
    "              # Ry(pi) on first ancilla\n",
    "        # H on first ancilla  \n",
    "        # measure first ancilla, store results in memory\n",
    "        # reset first ancilla\n"
   ]
  },
  {
   "cell_type": "code",
   "execution_count": 4,
   "metadata": {},
   "outputs": [
    {
     "data": {
      "image/png": "[encoded data removed]",
      "text/plain": [
       "<Figure size 1633.13x445.48 with 1 Axes>"
      ]
     },
     "execution_count": 4,
     "metadata": {},
     "output_type": "execute_result"
    }
   ],
   "source": [
    "qc.draw('mpl')"
   ]
  },
  {
   "cell_type": "code",
   "execution_count": 9,
   "metadata": {},
   "outputs": [],
   "source": [
    "import matplotlib.pyplot as plt\n",
    "import numpy as np\n",
    "from math import pi\n",
    "from qiskit import QuantumCircuit, ClassicalRegister, QuantumRegister, transpile\n",
    "from qiskit.tools.visualization import circuit_drawer\n",
    "from qiskit.quantum_info import state_fidelity\n",
    "from qiskit import BasicAer\n",
    "\n",
    "backend = BasicAer.get_backend('qasm_simulator')             ## Why does statevector and qsam gives different counts+\n",
    "job_sim = backend.run(transpile(qc, backend), shots = 1024)  # despite 1024 shots, statevector gives only 1 count\n",
    "result_sim = job_sim.result()                                # https://qiskit.org/documentation/stable/0.24/tutorials/simulators/1_aer_provider.html"
   ]
  },
  {
   "cell_type": "code",
   "execution_count": 10,
   "metadata": {},
   "outputs": [
    {
     "name": "stdout",
     "output_type": "stream",
     "text": [
      "\n",
      "Total {'101010': 1024}\n"
     ]
    }
   ],
   "source": [
    "counts = result_sim.get_counts(qc)\n",
    "print(\"\\nTotal\",counts)      "
   ]
  },
  {
   "cell_type": "code",
   "execution_count": null,
   "metadata": {},
   "outputs": [],
   "source": [
    "Algorithm 1: Optimize the selection of γ using n-bit\n",
    "estimations of eigenvalues\n",
    "Guess an overapproximation α of λmax\n",
    "γ := 1/α // Initialize scaling parameter\n",
    "x := 0\n",
    "// At each step, γ ∗ λmax ≤ 1\n",
    "while x 6= 2n − 1 do\n",
    "p := n-bit output distribution of QCL-QPE using\n",
    "unitary e\n",
    "iA2πγ and input state |bi\n",
    "x := max{j ∈ {0, ..., 2\n",
    "n − 1}| pj > 0, pj ∈ p}\n",
    "// x is an n-bit estimation of\n",
    "// 2\n",
    "n ∗ γ ∗ λmax\n",
    "if x = 0 then\n",
    "γ := γ ∗ 2\n",
    "n\n",
    "else\n",
    "γ := γ ∗ (2n−1)/x\n",
    "end\n",
    "end\n",
    "Result: γ = λ˜−1\n",
    "max, with λ˜\n",
    "max n-bit estimation of λmax"
   ]
  },
  {
   "cell_type": "code",
   "execution_count": null,
   "metadata": {},
   "outputs": [],
   "source": [
    "Algorithm 2: Verify if α is a n-bit overestimation of\n",
    "λmax\n",
    "Assumption: at each step, there is at least one eigenvalue of γA not\n",
    "in S\n",
    "j∈Z\n",
    "\u0002\n",
    "j − 2−(n+1), j + 2−(n+1)\u0003\n",
    "// Initialize scaling parameter\n",
    "Γ := 1/2\n",
    "n+1α\n",
    "p := n-bit output distribution of QCL-QPE using\n",
    "unitary e\n",
    "iA2πΓ and input state |bi\n",
    "if p0 6= 1 then\n",
    "Return α is not valid\n",
    "// Otherwise all eigenvalues\n",
    "// estimations would have been 0\n",
    "else\n",
    "Return α is valid\n",
    "end\n",
    "Result: Return if α is an overestimation of λmax"
   ]
  },
  {
   "cell_type": "code",
   "execution_count": null,
   "metadata": {},
   "outputs": [],
   "source": [
    "θi = 2 arcsin(C/λ˜i)"
   ]
  }
 ],
 "metadata": {
  "kernelspec": {
   "display_name": "Python 3",
   "language": "python",
   "name": "python3"
  },
  "language_info": {
   "codemirror_mode": {
    "name": "ipython",
    "version": 3
   },
   "file_extension": ".py",
   "mimetype": "text/x-python",
   "name": "python",
   "nbconvert_exporter": "python",
   "pygments_lexer": "ipython3",
   "version": "3.7.3"
  },
  "latex_envs": {
   "LaTeX_envs_menu_present": true,
   "autoclose": false,
   "autocomplete": true,
   "bibliofile": "biblio.bib",
   "cite_by": "apalike",
   "current_citInitial": 1,
   "eqLabelWithNumbers": true,
   "eqNumInitial": 1,
   "hotkeys": {
    "equation": "Ctrl-E",
    "itemize": "Ctrl-I"
   },
   "labels_anchors": false,
   "latex_user_defs": false,
   "report_style_numbering": false,
   "user_envs_cfg": false
  }
 },
 "nbformat": 4,
 "nbformat_minor": 4
}
