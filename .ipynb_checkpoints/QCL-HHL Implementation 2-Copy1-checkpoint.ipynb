{
 "cells": [
  {
   "cell_type": "markdown",
   "metadata": {},
   "source": [
    "# Authors of the code are Sudeep Ghosh and Siddhant Rathi :)\n"
   ]
  },
  {
   "cell_type": "code",
   "execution_count": 17,
   "metadata": {},
   "outputs": [],
   "source": [
    "from qiskit.quantum_info import Operator\n",
    "from qiskit import QuantumCircuit, ClassicalRegister, QuantumRegister\n",
    "from qiskit.visualization import plot_histogram\n",
    "import numpy as np\n",
    "import math"
   ]
  },
  {
   "cell_type": "code",
   "execution_count": 18,
   "metadata": {},
   "outputs": [],
   "source": [
    "#https://qiskit.org/textbook/ch-applications/vqe-molecules.html\n",
    "#\"Up to a global phase, any possible single qubit transformation may be implemented by appropriately setting these parameters\"\n",
    "\n",
    "# The rationale behind this program is to calculate the parameters theta. lambda, and phi \n",
    "# from the given values of the matrix elements in the normalized unitary matrix A\n",
    "\n",
    "# functions like limDivision, etc. are used to overcome implementational issues\n",
    "\n",
    "# Note - This is not a robust implementation, as the present Qiskit implementation of the u3 gate \n",
    "# does not accept complex angle values. This would mean that the first element of the matrix A MUST be real (cos(theta/2))  \n",
    "\n",
    "\n",
    "import numpy as np\n",
    "import cmath\n",
    "from qiskit import *\n",
    "\n",
    "def limDivision(x, y):\n",
    "    if(y != 0):\n",
    "        return x/y\n",
    "    else:\n",
    "        return 0\n",
    "\n",
    "def determinant(A):\n",
    "    return abs(A[0][0]*A[1][1] - A[0][1]*A[1][0])\n",
    "    \n",
    "def mapAtoU3(A):\n",
    "    mod = determinant(A)\n",
    "    a11 = A[0][0]/mod\n",
    "    a12 = A[0][1]/mod\n",
    "    a21 = A[1][0]/mod\n",
    "    a22 = A[1][1]/mod\n",
    "    \n",
    "    thetaA = 2*cmath.acos(a11)\n",
    "    \n",
    "    if abs(cmath.sin(thetaA/2)) <= 10e-4:\n",
    "        phiA = 0\n",
    "        lambdaA = -1j*cmath.log(limDivision(a22, cmath.cos(thetaA/2)))\n",
    "    else:    \n",
    "        phiA = -1j*cmath.log(limDivision(a21, cmath.sin(thetaA/2)))\n",
    "        lambdaA = -1j*cmath.log(limDivision(-a12, cmath.sin(thetaA/2)))\n",
    "    \n",
    "    paramsA = [thetaA, phiA, lambdaA]\n",
    "        \n",
    "    if((paramsA[0].imag)*(paramsA[1].imag)*(paramsA[2].imag) <= 10e-4):\n",
    "        return paramsA\n",
    "    else:\n",
    "        print('Invalid Matrix - Check Note')\n",
    "        \n",
    "def lambdaFromK(k):\n",
    "    return np.pi/pow(2, k-1)"
   ]
  },
  {
   "cell_type": "code",
   "execution_count": 25,
   "metadata": {},
   "outputs": [
    {
     "data": {
      "image/png": "[encoded data removed]",
      "text/plain": [
       "<Figure size 1644.23x445.48 with 1 Axes>"
      ]
     },
     "execution_count": 25,
     "metadata": {},
     "output_type": "execute_result"
    }
   ],
   "source": [
    "def QCL_QPE(A, depth):                             \n",
    "    ancilla = QuantumRegister(1, name='ancilla')      \n",
    "    inp = QuantumRegister(len(A)/2, name='input')\n",
    "    measurement = ClassicalRegister(depth, name='storage')\n",
    "\n",
    "    qc = QuantumCircuit(ancilla, inp, measurement)\n",
    "    \n",
    "    \n",
    "    for qubitNo in range(0, depth):       \n",
    "        qc.h(ancilla[0])                        \n",
    "        paramsA = mapAtoU3(A)\n",
    "        power = depth-qubitNo-1\n",
    "        for j in range(0, pow(2, power)):\n",
    "            #qc.cu3(paramsA[0].real, paramsA[1].real, paramsA[2].real, ancilla[0], inp[0])\n",
    "             qc.cu(np.pi/2, -np.pi/2, np.pi/2, 3*np.pi/4, ancilla[0], inp[0]);\n",
    "                \n",
    "        for i in range(0, qubitNo): \n",
    "            k = qubitNo - i\n",
    "            qc.p(lambdaFromK(k), ancilla[0]).c_if(measurement[i], 1)\n",
    "            \n",
    "        qc.h(ancilla[0])                    \n",
    "        qc.measure(ancilla[0], measurement[qubitNo]) \n",
    "        \n",
    "        if qubitNo != depth - 1:\n",
    "            qc.reset(ancilla[0])                         \n",
    "    return qc\n",
    "\n",
    "A = [[0, 1], [1, 0]] \n",
    "qc = QCL_QPE(A, 3)\n",
    "qc.draw('mpl')"
   ]
  },
  {
   "cell_type": "markdown",
   "metadata": {},
   "source": [
    "\\begin{align}\\begin{aligned}\\newcommand{\\th}{\\frac{\\theta}{2}}\\\\U3\\begin{split}(\\theta, \\phi, \\lambda) =\n",
    "    \\begin{pmatrix}\n",
    "        \\cos(\\th)          & -e^{i\\lambda}\\sin(\\th) \\\\\n",
    "        e^{i\\phi}\\sin(\\th) & e^{i(\\phi+\\lambda)}\\cos(\\th)\n",
    "    \\end{pmatrix}\\end{split}\\end{aligned}\\end{align}"
   ]
  },
  {
   "cell_type": "code",
   "execution_count": 28,
   "metadata": {},
   "outputs": [],
   "source": [
    "import matplotlib.pyplot as plt\n",
    "import numpy as np\n",
    "from math import pi\n",
    "from qiskit import QuantumCircuit, ClassicalRegister, QuantumRegister, transpile\n",
    "from qiskit.tools.visualization import circuit_drawer\n",
    "from qiskit.quantum_info import state_fidelity\n",
    "from qiskit import BasicAer\n",
    "\n",
    "backend = BasicAer.get_backend('qasm_simulator')             ## Why does statevector and qsam gives different counts+\n",
    "job_sim = backend.run(transpile(qc, backend), shots = 1000)  # despite 1024 shots, statevector gives only 1 count\n",
    "result_sim = job_sim.result()                                # https://qiskit.org/documentation/stable/0.24/tutorials/simulators/1_aer_provider.html"
   ]
  },
  {
   "cell_type": "code",
   "execution_count": 30,
   "metadata": {},
   "outputs": [
    {
     "name": "stdout",
     "output_type": "stream",
     "text": [
      "\n",
      "Total {'010': 242, '100': 534, '110': 224}\n"
     ]
    }
   ],
   "source": [
    "counts = result_sim.get_counts(qc)\n",
    "print(\"\\nTotal\",counts)      "
   ]
  },
  {
   "cell_type": "code",
   "execution_count": null,
   "metadata": {},
   "outputs": [],
   "source": [
    "Algorithm 1: Optimize the selection of γ using n-bit\n",
    "estimations of eigenvalues\n",
    "Guess an overapproximation α of λmax\n",
    "γ := 1/α // Initialize scaling parameter\n",
    "x := 0\n",
    "// At each step, γ ∗ λmax ≤ 1\n",
    "while x 6= 2n − 1 do\n",
    "p := n-bit output distribution of QCL-QPE using\n",
    "unitary e\n",
    "iA2πγ and input state |bi\n",
    "x := max{j ∈ {0, ..., 2\n",
    "n − 1}| pj > 0, pj ∈ p}\n",
    "// x is an n-bit estimation of\n",
    "// 2\n",
    "n ∗ γ ∗ λmax\n",
    "if x = 0 then\n",
    "γ := γ ∗ 2\n",
    "n\n",
    "else\n",
    "γ := γ ∗ (2n−1)/x\n",
    "end\n",
    "end\n",
    "Result: γ = λ˜−1\n",
    "max, with λ˜\n",
    "max n-bit estimation of λmax"
   ]
  },
  {
   "cell_type": "code",
   "execution_count": null,
   "metadata": {},
   "outputs": [],
   "source": [
    "Algorithm 2: Verify if α is a n-bit overestimation of\n",
    "λmax\n",
    "Assumption: at each step, there is at least one eigenvalue of γA not\n",
    "in S\n",
    "j∈Z\n",
    "\u0002\n",
    "j − 2−(n+1), j + 2−(n+1)\u0003\n",
    "// Initialize scaling parameter\n",
    "Γ := 1/2\n",
    "n+1α\n",
    "p := n-bit output distribution of QCL-QPE using\n",
    "unitary e\n",
    "iA2πΓ and input state |bi\n",
    "if p0 6= 1 then\n",
    "Return α is not valid\n",
    "// Otherwise all eigenvalues\n",
    "// estimations would have been 0\n",
    "else\n",
    "Return α is valid\n",
    "end\n",
    "Result: Return if α is an overestimation of λmax"
   ]
  },
  {
   "cell_type": "code",
   "execution_count": null,
   "metadata": {},
   "outputs": [],
   "source": [
    "θi = 2 arcsin(C/λ˜i)"
   ]
  }
 ],
 "metadata": {
  "kernelspec": {
   "display_name": "Python 3",
   "language": "python",
   "name": "python3"
  },
  "language_info": {
   "codemirror_mode": {
    "name": "ipython",
    "version": 3
   },
   "file_extension": ".py",
   "mimetype": "text/x-python",
   "name": "python",
   "nbconvert_exporter": "python",
   "pygments_lexer": "ipython3",
   "version": "3.7.3"
  },
  "latex_envs": {
   "LaTeX_envs_menu_present": true,
   "autoclose": false,
   "autocomplete": true,
   "bibliofile": "biblio.bib",
   "cite_by": "apalike",
   "current_citInitial": 1,
   "eqLabelWithNumbers": true,
   "eqNumInitial": 1,
   "hotkeys": {
    "equation": "Ctrl-E",
    "itemize": "Ctrl-I"
   },
   "labels_anchors": false,
   "latex_user_defs": false,
   "report_style_numbering": false,
   "user_envs_cfg": false
  }
 },
 "nbformat": 4,
 "nbformat_minor": 4
}
