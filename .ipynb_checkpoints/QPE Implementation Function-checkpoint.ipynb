{
 "cells": [
  {
   "cell_type": "markdown",
   "metadata": {},
   "source": [
    "# Authors of the code are Sudeep Ghosh and Siddhant Rathi :)\n"
   ]
  },
  {
   "cell_type": "markdown",
   "metadata": {},
   "source": [
    "Importing the required dependencies"
   ]
  },
  {
   "cell_type": "code",
   "execution_count": 1,
   "metadata": {},
   "outputs": [],
   "source": [
    "from qiskit.quantum_info import Operator\n",
    "from qiskit import QuantumCircuit, ClassicalRegister, QuantumRegister\n",
    "from qiskit.visualization import plot_histogram\n",
    "import numpy as np\n",
    "import math\n",
    "#import matplotlib.pyplot as plt\n",
    "from math import pi\n",
    "from qiskit.tools.visualization import circuit_drawer\n",
    "from qiskit.quantum_info import state_fidelity\n",
    "from qiskit import BasicAer\n",
    "import qiskit"
   ]
  },
  {
   "cell_type": "markdown",
   "metadata": {},
   "source": [
    "Utility Functions "
   ]
  },
  {
   "cell_type": "code",
   "execution_count": 2,
   "metadata": {},
   "outputs": [],
   "source": [
    "#https://qiskit.org/textbook/ch-applications/vqe-molecules.html\n",
    "#\"Up to a global phase, any possible single qubit transformation may be implemented by appropriately setting these parameters\"\n",
    "\n",
    "# The rationale behind this program is to calculate the parameters theta. lambda, and phi \n",
    "# from the given values of the matrix elements in the normalized unitary matrix A\n",
    "\n",
    "# functions like limDivision, etc. are used to overcome implementational issues\n",
    "\n",
    "# Note - This is not a robust implementation, as the present Qiskit implementation of the u3 gate \n",
    "# does not accept complex angle values. This would mean that the first element of the matrix A MUST be real (cos(theta/2))  \n",
    "\n",
    "\n",
    "import numpy as np\n",
    "import cmath\n",
    "from qiskit import *\n",
    "\n",
    "def limDivision(x, y):\n",
    "    if(y != 0):\n",
    "        return x/y\n",
    "    else:\n",
    "        return 0\n",
    "\n",
    "def determinant(A):\n",
    "    return abs(A[0][0]*A[1][1] - A[0][1]*A[1][0])\n",
    "    \n",
    "def mapAtoU3(A):\n",
    "    mod = determinant(A)\n",
    "    a11 = A[0][0]/mod\n",
    "    a12 = A[0][1]/mod\n",
    "    a21 = A[1][0]/mod\n",
    "    a22 = A[1][1]/mod\n",
    "    \n",
    "    thetaA = 2*cmath.acos(a11)\n",
    "    \n",
    "    if abs(cmath.sin(thetaA/2)) <= 10e-4:\n",
    "        phiA = 0\n",
    "        lambdaA = -1j*cmath.log(limDivision(a22, cmath.cos(thetaA/2)))\n",
    "    else:    \n",
    "        phiA = -1j*cmath.log(limDivision(a21, cmath.sin(thetaA/2)))\n",
    "        lambdaA = -1j*cmath.log(limDivision(-a12, cmath.sin(thetaA/2)))\n",
    "    \n",
    "    paramsA = [thetaA, phiA, lambdaA]\n",
    "        \n",
    "    if((paramsA[0].imag)*(paramsA[1].imag)*(paramsA[2].imag) <= 10e-4):\n",
    "        return paramsA\n",
    "    else:\n",
    "        print('Invalid Matrix - Check Note')\n",
    "        \n",
    "def lambdaFromK(k):\n",
    "    return np.pi/pow(2, k-1)\n",
    "\n",
    "def AfromU4(theta, phi, lamda, gamma):\n",
    "    a11 = (np.exp(1J*gamma))*np.cos(theta/2)\n",
    "    a12 = (-np.exp(1J*(lamda + gamma)))*np.sin(theta/2)\n",
    "    a21 = (np.exp(1J*(phi + gamma)))*np.sin(theta/2)\n",
    "    a22 = (np.exp(1J*(phi + lamda + gamma)))*np.cos(theta/2)\n",
    "    A = [[a11, a12], [a21, a22]]\n",
    "    return A"
   ]
  },
  {
   "cell_type": "markdown",
   "metadata": {},
   "source": [
    "\\begin{align}\\begin{aligned}\\newcommand{\\th}{\\frac{\\theta}{2}}\\\\U\\begin{split}(\\theta, \\phi, \\lambda, \\gamma) =\n",
    "    \\begin{pmatrix}\n",
    "        e^{i\\gamma}\\cos(\\th)          & -e^{i(\\lambda+\\gamma)}\\sin(\\th) \\\\\n",
    "        e^{i(\\phi+\\gamma)}\\sin(\\th) & e^{i(\\phi+\\lambda+\\gamma)}\\cos(\\th)\n",
    "    \\end{pmatrix}\\end{split}\\end{aligned}\\end{align}"
   ]
  },
  {
   "cell_type": "markdown",
   "metadata": {},
   "source": [
    "Function for initialising the input 'b' (optional, defaults to 0)"
   ]
  },
  {
   "cell_type": "code",
   "execution_count": 3,
   "metadata": {},
   "outputs": [],
   "source": [
    "def initializeB(qc, inp):\n",
    "    qc.h(inp[0])"
   ]
  },
  {
   "cell_type": "markdown",
   "metadata": {},
   "source": [
    "Creating the QCL-QPE circuit given the matrix A, the number of stages, and whether A and b would be provided by the user or calculated internally and taken to be 0, respectively"
   ]
  },
  {
   "cell_type": "code",
   "execution_count": 4,
   "metadata": {},
   "outputs": [],
   "source": [
    "def QCL_QPE(A, stages, b = 0, paramsAProvided = 0):                             \n",
    "    \n",
    "    ancilla = QuantumRegister(1, name='ancilla')      \n",
    "    inp = QuantumRegister(len(A)/2, name='input')\n",
    "    measurement = ClassicalRegister(stages, name='storage')\n",
    "\n",
    "    qc = QuantumCircuit(ancilla, inp, measurement)\n",
    "    \n",
    "    if b != 0:\n",
    "        qc = initializeB(qc, inp)\n",
    "    \n",
    "    for qubitNo in range(0, stages):       \n",
    "        qc.h(ancilla[0])        \n",
    "        if paramsAProvided == 0:\n",
    "            paramsA = mapAtoU3(A)\n",
    "        else: \n",
    "            paramsA = paramsAProvided\n",
    "        power = stages-qubitNo-1\n",
    "        for j in range(0, pow(2, power)):\n",
    "            if paramsAProvided == 0:\n",
    "                qc.cu3(paramsA[0].real, paramsA[1].real, paramsA[2].real, ancilla[0], inp[0])\n",
    "            else:\n",
    "                qc.cu(paramsA[0], paramsA[1], paramsA[2], paramsA[3], ancilla[0], inp[0]);\n",
    "                \n",
    "        for i in range(0, qubitNo): \n",
    "            k = qubitNo - i\n",
    "            qc.p(lambdaFromK(k), ancilla[0]).c_if(measurement[i], 1)\n",
    "            \n",
    "        qc.h(ancilla[0])                    \n",
    "        qc.measure(ancilla[0], measurement[qubitNo]) \n",
    "        \n",
    "        if qubitNo != stages - 1:\n",
    "            qc.reset(ancilla[0])                         \n",
    "    return qc"
   ]
  },
  {
   "cell_type": "markdown",
   "metadata": {},
   "source": [
    "The U gate used in the above code can be represented as below. The U3 gate can be obtained from the U gate by setting $\\gamma=0$ (differ by global phase)\n",
    "\n",
    "\\begin{align}\\begin{aligned}\\newcommand{\\th}{\\frac{\\theta}{2}}\\\\U\\begin{split}(\\theta, \\phi, \\lambda, \\gamma) =\n",
    "    \\begin{pmatrix}\n",
    "        e^{i\\gamma}\\cos(\\th)          & -e^{i(\\lambda+\\gamma)}\\sin(\\th) \\\\\n",
    "        e^{i(\\phi+\\gamma)}\\sin(\\th) & e^{i(\\phi+\\lambda+\\gamma)}\\cos(\\th)\n",
    "    \\end{pmatrix}\\end{split}\\end{aligned}\\end{align}"
   ]
  },
  {
   "cell_type": "markdown",
   "metadata": {},
   "source": [
    "## Using the Code on Some Example Cases "
   ]
  },
  {
   "cell_type": "markdown",
   "metadata": {},
   "source": [
    "First, let us take the simple case of the matrix\n",
    "\\begin{align}\\begin{aligned}\\newcommand{\\th}{\\frac{\\theta}{2}}\\\\A\\begin{split}=\n",
    "    \\begin{pmatrix}\n",
    "        0          & -1 \\\\\n",
    "        1 & 0\n",
    "    \\end{pmatrix}\\end{split}\\end{aligned}\\end{align}"
   ]
  },
  {
   "cell_type": "code",
   "execution_count": 5,
   "metadata": {},
   "outputs": [],
   "source": [
    "def runSimul(A, stages, b = 0, paramsAProvided = 0):\n",
    "\n",
    "    qc = QCL_QPE(A, stages, b, paramsAProvided)\n",
    "    #qc.draw('mpl')\n",
    "    backend = BasicAer.get_backend('qasm_simulator')             ## Why does statevector and qsam gives different counts+\n",
    "    job_sim = backend.run(transpile(qc, backend), shots = 1000)  # despite 1024 shots, statevector gives only 1 count\n",
    "    result_sim = job_sim.result()                                # https://qiskit.org/documentation/stable/0.24/tutorials/simulators/1_aer_provider.html\n",
    "    \n",
    "    counts = result_sim.get_counts(qc)\n",
    "    print(\"\\nTotal\",counts)\n",
    "    \n",
    "    #plot_histogram(counts)\n",
    "    \n",
    "    return qc, counts"
   ]
  },
  {
   "cell_type": "code",
   "execution_count": 10,
   "metadata": {},
   "outputs": [],
   "source": [
    "def runQPE(A, stages):\n",
    "    U = qiskit.extensions.UnitaryGate(A)\n",
    "    qc = qiskit.circuit.library.PhaseEstimation(stages, U)\n",
    "    \n",
    "    backend = BasicAer.get_backend('qasm_simulator')             \n",
    "    job_sim = backend.run(transpile(qc, backend), shots = 1000) \n",
    "    result_sim = job_sim.result()                                \n",
    "    counts = result_sim.get_counts(qc)\n",
    "    print(\"\\nTotal\",counts)\n",
    "    return qc, counts"
   ]
  },
  {
   "cell_type": "code",
   "execution_count": 12,
   "metadata": {},
   "outputs": [
    {
     "name": "stderr",
     "output_type": "stream",
     "text": [
      "C:\\Users\\ASUS\\AppData\\Local\\Temp\\ipykernel_10568\\33146317.py:21: DeprecationWarning: The QuantumCircuit.cu3 method is deprecated as of 0.16.0. It will be removed no earlier than 3 months after the release date. You should use the QuantumCircuit.cu method instead, where cu3(ϴ,φ,λ) = cu(ϴ,φ,λ,0).\n",
      "  qc.cu3(paramsA[0].real, paramsA[1].real, paramsA[2].real, ancilla[0], inp[0])\n",
      "No classical registers in circuit \"QPE\", counts will be empty.\n"
     ]
    },
    {
     "name": "stdout",
     "output_type": "stream",
     "text": [
      "\n",
      "Total {'110': 506, '010': 494}\n",
      "\n",
      "Total {}\n"
     ]
    }
   ],
   "source": [
    "qc, counts = runSimul([[0, -1], [1, 0]], 3)\n",
    "qc_QPE, counts_QPE = runQPE([[0, -1], [1, 0]], 3)"
   ]
  },
  {
   "cell_type": "code",
   "execution_count": 13,
   "metadata": {},
   "outputs": [
    {
     "data": {
      "image/png": "[encoded data removed]",
      "text/plain": [
       "<Figure size 504x360 with 1 Axes>"
      ]
     },
     "execution_count": 13,
     "metadata": {},
     "output_type": "execute_result"
    }
   ],
   "source": [
    "plot_histogram(counts)"
   ]
  },
  {
   "cell_type": "markdown",
   "metadata": {},
   "source": [
    "The results obtained are given above. The interpretation of these results is yet to be established"
   ]
  },
  {
   "cell_type": "markdown",
   "metadata": {},
   "source": [
    "<hr>\n",
    "Now, we take the example of the matrix\n",
    "\\begin{align}\\begin{aligned}\\newcommand{\\th}{\\frac{\\theta}{2}}\\\\A\\begin{split}=\n",
    "    \\begin{pmatrix}\n",
    "        e^{(i3\\pi/4)}\\cos(\\pi/8)         & -e^{(i5\\pi/4)}\\sin(\\pi/8) \\\\\n",
    "        e^{(i\\pi/4)}\\sin(\\pi/8) & e^{(i3\\pi/4)}\\cos(\\pi/8)\n",
    "    \\end{pmatrix}\\end{split}\\end{aligned}\\end{align}\n",
    "\n"
   ]
  },
  {
   "cell_type": "code",
   "execution_count": 19,
   "metadata": {},
   "outputs": [
    {
     "name": "stderr",
     "output_type": "stream",
     "text": [
      "No classical registers in circuit \"QPE\", counts will be empty.\n"
     ]
    },
    {
     "name": "stdout",
     "output_type": "stream",
     "text": [
      "\n",
      "Total {'100': 214, '101': 246, '001': 30, '010': 195, '110': 68, '011': 162, '111': 62, '000': 23}\n",
      "\n",
      "Total {}\n"
     ]
    }
   ],
   "source": [
    "qc, counts = runSimul([[0, 0], [0, 0]], 3, paramsAProvided = [np.pi/4, -np.pi/2, np.pi/2, 3*np.pi/4])\n",
    "qc_QPE, counts_QPE = runQPE(AfromU4(np.pi/4, -np.pi/2, np.pi/2, 3*np.pi/4), 3)\n",
    "# value of A passed is immaterial here, only its shape matters"
   ]
  },
  {
   "cell_type": "code",
   "execution_count": 20,
   "metadata": {},
   "outputs": [
    {
     "data": {
      "image/png": "[encoded data removed]",
      "text/plain": [
       "<Figure size 1644.23x445.48 with 1 Axes>"
      ]
     },
     "execution_count": 20,
     "metadata": {},
     "output_type": "execute_result"
    }
   ],
   "source": [
    "qc.draw('mpl')"
   ]
  },
  {
   "cell_type": "code",
   "execution_count": 21,
   "metadata": {},
   "outputs": [
    {
     "data": {
      "image/png": "[encoded data removed]",
      "text/plain": [
       "<Figure size 504x360 with 1 Axes>"
      ]
     },
     "execution_count": 21,
     "metadata": {},
     "output_type": "execute_result"
    }
   ],
   "source": [
    "plot_histogram(counts)"
   ]
  },
  {
   "cell_type": "code",
   "execution_count": 22,
   "metadata": {},
   "outputs": [
    {
     "name": "stdout",
     "output_type": "stream",
     "text": [
      "[[(-0.6532814824381882+0.6532814824381883j), (0.27059805007309856+0.27059805007309845j)], [(0.2705980500730985+0.2705980500730985j), (-0.6532814824381882+0.6532814824381883j)]]\n"
     ]
    }
   ],
   "source": [
    "print(AfromU4(np.pi/4, -np.pi/2, np.pi/2, 3*np.pi/4))"
   ]
  },
  {
   "cell_type": "markdown",
   "metadata": {},
   "source": [
    "A plot of the measurement results is given above"
   ]
  },
  {
   "cell_type": "markdown",
   "metadata": {},
   "source": [
    "<hr>\n",
    "Finally, we take the example of the matrix\n",
    "\\begin{align}\\begin{aligned}\\newcommand{\\th}{\\frac{\\theta}{2}}\\\\\\sigma_{X}\\begin{split}=\n",
    "    \\begin{pmatrix}\n",
    "        0         & 1 \\\\\n",
    "        1 & 0\n",
    "    \\end{pmatrix}\\end{split}\\end{aligned}\\end{align}\n"
   ]
  },
  {
   "cell_type": "code",
   "execution_count": 24,
   "metadata": {},
   "outputs": [
    {
     "name": "stderr",
     "output_type": "stream",
     "text": [
      "C:\\Users\\ASUS\\AppData\\Local\\Temp\\ipykernel_10568\\33146317.py:21: DeprecationWarning: The QuantumCircuit.cu3 method is deprecated as of 0.16.0. It will be removed no earlier than 3 months after the release date. You should use the QuantumCircuit.cu method instead, where cu3(ϴ,φ,λ) = cu(ϴ,φ,λ,0).\n",
      "  qc.cu3(paramsA[0].real, paramsA[1].real, paramsA[2].real, ancilla[0], inp[0])\n"
     ]
    },
    {
     "name": "stdout",
     "output_type": "stream",
     "text": [
      "\n",
      "Total {'000': 491, '100': 509}\n",
      "\n",
      "Total {'000': 486, '100': 514}\n"
     ]
    }
   ],
   "source": [
    "qc, counts = runSimul([[0, 1], [1, 0]], stages = 3)\n",
    "qc_QPE, counts_QPE = runQPE([[0, 1], [1, 0]], 3)"
   ]
  },
  {
   "cell_type": "code",
   "execution_count": 25,
   "metadata": {},
   "outputs": [
    {
     "data": {
      "image/png": "[encoded data removed]",
      "text/plain": [
       "<Figure size 1403.43x204.68 with 1 Axes>"
      ]
     },
     "execution_count": 25,
     "metadata": {},
     "output_type": "execute_result"
    }
   ],
   "source": [
    "qc.draw('mpl')"
   ]
  },
  {
   "cell_type": "code",
   "execution_count": 26,
   "metadata": {},
   "outputs": [
    {
     "data": {
      "image/png": "[encoded data removed]",
      "text/plain": [
       "<Figure size 504x360 with 1 Axes>"
      ]
     },
     "execution_count": 26,
     "metadata": {},
     "output_type": "execute_result"
    }
   ],
   "source": [
    "plot_histogram(counts)"
   ]
  },
  {
   "cell_type": "markdown",
   "metadata": {},
   "source": [
    "<hr style='height:2px'>"
   ]
  }
 ],
 "metadata": {
  "kernelspec": {
   "display_name": "Python 3 (ipykernel)",
   "language": "python",
   "name": "python3"
  },
  "language_info": {
   "codemirror_mode": {
    "name": "ipython",
    "version": 3
   },
   "file_extension": ".py",
   "mimetype": "text/x-python",
   "name": "python",
   "nbconvert_exporter": "python",
   "pygments_lexer": "ipython3",
   "version": "3.9.7"
  },
  "latex_envs": {
   "LaTeX_envs_menu_present": true,
   "autoclose": false,
   "autocomplete": true,
   "bibliofile": "biblio.bib",
   "cite_by": "apalike",
   "current_citInitial": 1,
   "eqLabelWithNumbers": true,
   "eqNumInitial": 1,
   "hotkeys": {
    "equation": "Ctrl-E",
    "itemize": "Ctrl-I"
   },
   "labels_anchors": false,
   "latex_user_defs": false,
   "report_style_numbering": false,
   "user_envs_cfg": false
  }
 },
 "nbformat": 4,
 "nbformat_minor": 4
}
