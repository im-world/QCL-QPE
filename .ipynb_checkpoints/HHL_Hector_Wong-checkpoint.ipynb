{
 "cells": [
  {
   "cell_type": "markdown",
   "metadata": {},
   "source": [
    "Paper Source\n",
    "\n",
    "\"Step-by-Step HHL Algorithm Walkthrough to Enhance the Understanding of Critical Quantum Computing Concepts\"\n",
    "\n",
    "https://arxiv.org/abs/2108.09004\n",
    "\n",
    "<b>To cite</b>\n",
    "\n",
    "Hector Morrell and Hiu Yung Wong, \"Step-by-Step HHL Algorithm Walkthrough to Enhance the Understanding of Critical Quantum Computing Concepts\", arXiv preprint arXiv:2108.09004\n"
   ]
  },
  {
   "cell_type": "code",
   "execution_count": 1,
   "metadata": {
    "colab": {
     "base_uri": "https://localhost:8080/"
    },
    "id": "TM2UtFxQ2SOb",
    "outputId": "87fbe2e0-11aa-48b1-a98f-50a31b934529"
   },
   "outputs": [
    {
     "name": "stdout",
     "output_type": "stream",
     "text": [
      "Requirement already satisfied: qiskit[visualization] in c:\\users\\asus\\anaconda3\\lib\\site-packages (0.20.0)\n",
      "Requirement already satisfied: qiskit-ignis==0.4.0 in c:\\users\\asus\\anaconda3\\lib\\site-packages (from qiskit[visualization]) (0.4.0)\n",
      "Requirement already satisfied: qiskit-aer==0.6.1 in c:\\users\\asus\\anaconda3\\lib\\site-packages (from qiskit[visualization]) (0.6.1)\n",
      "Requirement already satisfied: qiskit-ibmq-provider==0.8.0 in c:\\users\\asus\\anaconda3\\lib\\site-packages (from qiskit[visualization]) (0.8.0)\n",
      "Collecting qiskit-terra==0.15.1 (from qiskit[visualization])\n",
      "  Using cached https://files.pythonhosted.org/packages/a9/10/645c69ce295833eab5e2f5b2f8aabe0e41d32140e263268f5df6aa249d86/qiskit_terra-0.15.1-cp37-cp37m-win_amd64.whl\n",
      "Requirement already satisfied: qiskit-aqua==0.7.5 in c:\\users\\asus\\anaconda3\\lib\\site-packages (from qiskit[visualization]) (0.7.5)\n",
      "Requirement already satisfied: ipywidgets>=7.3.0; extra == \"visualization\" in c:\\users\\asus\\anaconda3\\lib\\site-packages (from qiskit[visualization]) (7.5.1)\n",
      "Requirement already satisfied: seaborn>=0.9.0; extra == \"visualization\" in c:\\users\\asus\\anaconda3\\lib\\site-packages (from qiskit[visualization]) (0.10.0)\n",
      "Requirement already satisfied: matplotlib>=2.1; extra == \"visualization\" in c:\\users\\asus\\anaconda3\\lib\\site-packages (from qiskit[visualization]) (3.2.1)\n",
      "Requirement already satisfied: pygments>=2.4; extra == \"visualization\" in c:\\users\\asus\\anaconda3\\lib\\site-packages (from qiskit[visualization]) (2.4.2)\n",
      "Requirement already satisfied: pylatexenc>=1.4; extra == \"visualization\" in c:\\users\\asus\\anaconda3\\lib\\site-packages (from qiskit[visualization]) (2.10)\n",
      "Requirement already satisfied: pillow>=4.2.1; extra == \"visualization\" in c:\\users\\asus\\anaconda3\\lib\\site-packages (from qiskit[visualization]) (6.1.0)\n",
      "Requirement already satisfied: pydot; extra == \"visualization\" in c:\\users\\asus\\anaconda3\\lib\\site-packages (from qiskit[visualization]) (1.4.1)\n",
      "Requirement already satisfied: scipy!=0.19.1,>=0.19 in c:\\users\\asus\\appdata\\roaming\\python\\python37\\site-packages (from qiskit-ignis==0.4.0->qiskit[visualization]) (1.5.4)\n",
      "Requirement already satisfied: numpy>=1.13 in c:\\users\\asus\\anaconda3\\lib\\site-packages (from qiskit-ignis==0.4.0->qiskit[visualization]) (1.19.3)\n",
      "Requirement already satisfied: setuptools>=40.1.0 in c:\\users\\asus\\anaconda3\\lib\\site-packages (from qiskit-ignis==0.4.0->qiskit[visualization]) (51.3.3)\n",
      "Requirement already satisfied: scikit-learn>=0.17 in c:\\users\\asus\\anaconda3\\lib\\site-packages (from qiskit-ignis==0.4.0->qiskit[visualization]) (0.21.2)\n",
      "Requirement already satisfied: cython>=0.27.1 in c:\\users\\asus\\anaconda3\\lib\\site-packages (from qiskit-aer==0.6.1->qiskit[visualization]) (0.29.12)\n",
      "Requirement already satisfied: pybind11>=2.4 in c:\\users\\asus\\appdata\\roaming\\python\\python37\\site-packages (from qiskit-aer==0.6.1->qiskit[visualization]) (2.6.0)\n",
      "Requirement already satisfied: requests>=2.19 in c:\\users\\asus\\anaconda3\\lib\\site-packages (from qiskit-ibmq-provider==0.8.0->qiskit[visualization]) (2.22.0)\n",
      "Requirement already satisfied: requests-ntlm>=1.1.0 in c:\\users\\asus\\appdata\\roaming\\python\\python37\\site-packages (from qiskit-ibmq-provider==0.8.0->qiskit[visualization]) (1.1.0)\n",
      "Requirement already satisfied: websockets>=8; python_version > \"3.6\" in c:\\users\\asus\\appdata\\roaming\\python\\python37\\site-packages (from qiskit-ibmq-provider==0.8.0->qiskit[visualization]) (8.1)\n",
      "Requirement already satisfied: python-dateutil>=2.8.0 in c:\\users\\asus\\anaconda3\\lib\\site-packages (from qiskit-ibmq-provider==0.8.0->qiskit[visualization]) (2.8.0)\n",
      "Requirement already satisfied: nest-asyncio!=1.1.0,>=1.0.0 in c:\\users\\asus\\appdata\\roaming\\python\\python37\\site-packages (from qiskit-ibmq-provider==0.8.0->qiskit[visualization]) (1.4.2)\n",
      "Requirement already satisfied: urllib3>=1.21.1 in c:\\users\\asus\\anaconda3\\lib\\site-packages (from qiskit-ibmq-provider==0.8.0->qiskit[visualization]) (1.24.2)\n",
      "Requirement already satisfied: fastjsonschema>=2.10 in c:\\users\\asus\\appdata\\roaming\\python\\python37\\site-packages (from qiskit-terra==0.15.1->qiskit[visualization]) (2.14.5)\n",
      "Requirement already satisfied: jsonschema>=2.6 in c:\\users\\asus\\anaconda3\\lib\\site-packages (from qiskit-terra==0.15.1->qiskit[visualization]) (3.0.1)\n",
      "Requirement already satisfied: dill>=0.3 in c:\\users\\asus\\appdata\\roaming\\python\\python37\\site-packages (from qiskit-terra==0.15.1->qiskit[visualization]) (0.3.3)\n",
      "Requirement already satisfied: retworkx>=0.4.0 in c:\\users\\asus\\anaconda3\\lib\\site-packages (from qiskit-terra==0.15.1->qiskit[visualization]) (0.10.2)\n",
      "Requirement already satisfied: python-constraint>=1.4 in c:\\users\\asus\\appdata\\roaming\\python\\python37\\site-packages (from qiskit-terra==0.15.1->qiskit[visualization]) (1.4.0)\n",
      "Requirement already satisfied: ply>=3.10 in c:\\users\\asus\\anaconda3\\lib\\site-packages (from qiskit-terra==0.15.1->qiskit[visualization]) (3.11)\n",
      "Requirement already satisfied: sympy>=1.3 in c:\\users\\asus\\anaconda3\\lib\\site-packages (from qiskit-terra==0.15.1->qiskit[visualization]) (1.4)\n",
      "Requirement already satisfied: networkx>=2.2; python_version > \"3.5\" in c:\\users\\asus\\anaconda3\\lib\\site-packages (from qiskit-terra==0.15.1->qiskit[visualization]) (2.3)\n",
      "Requirement already satisfied: psutil>=5 in c:\\users\\asus\\anaconda3\\lib\\site-packages (from qiskit-terra==0.15.1->qiskit[visualization]) (5.6.3)\n",
      "Requirement already satisfied: dlx in c:\\users\\asus\\appdata\\roaming\\python\\python37\\site-packages (from qiskit-aqua==0.7.5->qiskit[visualization]) (1.0.4)\n",
      "Requirement already satisfied: docplex in c:\\users\\asus\\appdata\\roaming\\python\\python37\\site-packages (from qiskit-aqua==0.7.5->qiskit[visualization]) (2.15.194)\n",
      "Requirement already satisfied: pandas in c:\\users\\asus\\anaconda3\\lib\\site-packages (from qiskit-aqua==0.7.5->qiskit[visualization]) (0.24.2)\n",
      "Requirement already satisfied: quandl in c:\\users\\asus\\appdata\\roaming\\python\\python37\\site-packages (from qiskit-aqua==0.7.5->qiskit[visualization]) (3.5.3)\n",
      "Requirement already satisfied: yfinance in c:\\users\\asus\\appdata\\roaming\\python\\python37\\site-packages (from qiskit-aqua==0.7.5->qiskit[visualization]) (0.1.55)\n",
      "Requirement already satisfied: h5py in c:\\users\\asus\\anaconda3\\lib\\site-packages (from qiskit-aqua==0.7.5->qiskit[visualization]) (2.10.0)\n",
      "Requirement already satisfied: fastdtw in c:\\users\\asus\\appdata\\roaming\\python\\python37\\site-packages (from qiskit-aqua==0.7.5->qiskit[visualization]) (0.3.4)\n",
      "Requirement already satisfied: ipython>=4.0.0; python_version >= \"3.3\" in c:\\users\\asus\\anaconda3\\lib\\site-packages (from ipywidgets>=7.3.0; extra == \"visualization\"->qiskit[visualization]) (7.6.1)\n",
      "Requirement already satisfied: nbformat>=4.2.0 in c:\\users\\asus\\anaconda3\\lib\\site-packages (from ipywidgets>=7.3.0; extra == \"visualization\"->qiskit[visualization]) (4.4.0)\n",
      "Requirement already satisfied: widgetsnbextension~=3.5.0 in c:\\users\\asus\\anaconda3\\lib\\site-packages (from ipywidgets>=7.3.0; extra == \"visualization\"->qiskit[visualization]) (3.5.0)\n",
      "Requirement already satisfied: traitlets>=4.3.1 in c:\\users\\asus\\anaconda3\\lib\\site-packages (from ipywidgets>=7.3.0; extra == \"visualization\"->qiskit[visualization]) (4.3.2)\n",
      "Requirement already satisfied: ipykernel>=4.5.1 in c:\\users\\asus\\anaconda3\\lib\\site-packages (from ipywidgets>=7.3.0; extra == \"visualization\"->qiskit[visualization]) (5.1.1)\n",
      "Requirement already satisfied: kiwisolver>=1.0.1 in c:\\users\\asus\\anaconda3\\lib\\site-packages (from matplotlib>=2.1; extra == \"visualization\"->qiskit[visualization]) (1.1.0)\n",
      "Requirement already satisfied: pyparsing!=2.0.4,!=2.1.2,!=2.1.6,>=2.0.1 in c:\\users\\asus\\anaconda3\\lib\\site-packages (from matplotlib>=2.1; extra == \"visualization\"->qiskit[visualization]) (2.4.0)\n",
      "Requirement already satisfied: cycler>=0.10 in c:\\users\\asus\\anaconda3\\lib\\site-packages (from matplotlib>=2.1; extra == \"visualization\"->qiskit[visualization]) (0.10.0)\n",
      "Requirement already satisfied: joblib>=0.11 in c:\\users\\asus\\anaconda3\\lib\\site-packages (from scikit-learn>=0.17->qiskit-ignis==0.4.0->qiskit[visualization]) (0.13.2)\n",
      "Requirement already satisfied: chardet<3.1.0,>=3.0.2 in c:\\users\\asus\\anaconda3\\lib\\site-packages (from requests>=2.19->qiskit-ibmq-provider==0.8.0->qiskit[visualization]) (3.0.4)\n",
      "Requirement already satisfied: idna<2.9,>=2.5 in c:\\users\\asus\\anaconda3\\lib\\site-packages (from requests>=2.19->qiskit-ibmq-provider==0.8.0->qiskit[visualization]) (2.8)\n",
      "Requirement already satisfied: certifi>=2017.4.17 in c:\\users\\asus\\anaconda3\\lib\\site-packages (from requests>=2.19->qiskit-ibmq-provider==0.8.0->qiskit[visualization]) (2019.6.16)\n",
      "Requirement already satisfied: cryptography>=1.3 in c:\\users\\asus\\anaconda3\\lib\\site-packages (from requests-ntlm>=1.1.0->qiskit-ibmq-provider==0.8.0->qiskit[visualization]) (2.7)\n",
      "Requirement already satisfied: ntlm-auth>=1.0.2 in c:\\users\\asus\\appdata\\roaming\\python\\python37\\site-packages (from requests-ntlm>=1.1.0->qiskit-ibmq-provider==0.8.0->qiskit[visualization]) (1.5.0)\n",
      "Requirement already satisfied: six>=1.5 in c:\\users\\asus\\anaconda3\\lib\\site-packages (from python-dateutil>=2.8.0->qiskit-ibmq-provider==0.8.0->qiskit[visualization]) (1.15.0)\n",
      "Requirement already satisfied: attrs>=17.4.0 in c:\\users\\asus\\anaconda3\\lib\\site-packages (from jsonschema>=2.6->qiskit-terra==0.15.1->qiskit[visualization]) (19.1.0)\n",
      "Requirement already satisfied: pyrsistent>=0.14.0 in c:\\users\\asus\\anaconda3\\lib\\site-packages (from jsonschema>=2.6->qiskit-terra==0.15.1->qiskit[visualization]) (0.14.11)\n",
      "Requirement already satisfied: mpmath>=0.19 in c:\\users\\asus\\anaconda3\\lib\\site-packages (from sympy>=1.3->qiskit-terra==0.15.1->qiskit[visualization]) (1.1.0)\n",
      "Requirement already satisfied: decorator>=4.3.0 in c:\\users\\asus\\anaconda3\\lib\\site-packages (from networkx>=2.2; python_version > \"3.5\"->qiskit-terra==0.15.1->qiskit[visualization]) (4.4.0)\n",
      "Requirement already satisfied: pytz>=2011k in c:\\users\\asus\\anaconda3\\lib\\site-packages (from pandas->qiskit-aqua==0.7.5->qiskit[visualization]) (2019.1)\n",
      "Requirement already satisfied: inflection>=0.3.1 in c:\\users\\asus\\appdata\\roaming\\python\\python37\\site-packages (from quandl->qiskit-aqua==0.7.5->qiskit[visualization]) (0.5.1)\n",
      "Requirement already satisfied: more-itertools in c:\\users\\asus\\anaconda3\\lib\\site-packages (from quandl->qiskit-aqua==0.7.5->qiskit[visualization]) (7.0.0)\n",
      "Requirement already satisfied: lxml>=4.5.1 in c:\\users\\asus\\appdata\\roaming\\python\\python37\\site-packages (from yfinance->qiskit-aqua==0.7.5->qiskit[visualization]) (4.6.1)\n",
      "Requirement already satisfied: multitasking>=0.0.7 in c:\\users\\asus\\appdata\\roaming\\python\\python37\\site-packages (from yfinance->qiskit-aqua==0.7.5->qiskit[visualization]) (0.0.9)\n",
      "Requirement already satisfied: pickleshare in c:\\users\\asus\\anaconda3\\lib\\site-packages (from ipython>=4.0.0; python_version >= \"3.3\"->ipywidgets>=7.3.0; extra == \"visualization\"->qiskit[visualization]) (0.7.5)\n",
      "Requirement already satisfied: jedi>=0.10 in c:\\users\\asus\\anaconda3\\lib\\site-packages (from ipython>=4.0.0; python_version >= \"3.3\"->ipywidgets>=7.3.0; extra == \"visualization\"->qiskit[visualization]) (0.13.3)\n",
      "Requirement already satisfied: prompt-toolkit<2.1.0,>=2.0.0 in c:\\users\\asus\\anaconda3\\lib\\site-packages (from ipython>=4.0.0; python_version >= \"3.3\"->ipywidgets>=7.3.0; extra == \"visualization\"->qiskit[visualization]) (2.0.9)\n",
      "Requirement already satisfied: backcall in c:\\users\\asus\\anaconda3\\lib\\site-packages (from ipython>=4.0.0; python_version >= \"3.3\"->ipywidgets>=7.3.0; extra == \"visualization\"->qiskit[visualization]) (0.1.0)\n",
      "Requirement already satisfied: colorama; sys_platform == \"win32\" in c:\\users\\asus\\anaconda3\\lib\\site-packages (from ipython>=4.0.0; python_version >= \"3.3\"->ipywidgets>=7.3.0; extra == \"visualization\"->qiskit[visualization]) (0.4.1)\n",
      "Requirement already satisfied: ipython-genutils in c:\\users\\asus\\anaconda3\\lib\\site-packages (from nbformat>=4.2.0->ipywidgets>=7.3.0; extra == \"visualization\"->qiskit[visualization]) (0.2.0)\n",
      "Requirement already satisfied: jupyter-core in c:\\users\\asus\\anaconda3\\lib\\site-packages (from nbformat>=4.2.0->ipywidgets>=7.3.0; extra == \"visualization\"->qiskit[visualization]) (4.5.0)\n",
      "Requirement already satisfied: notebook>=4.4.1 in c:\\users\\asus\\anaconda3\\lib\\site-packages (from widgetsnbextension~=3.5.0->ipywidgets>=7.3.0; extra == \"visualization\"->qiskit[visualization]) (6.0.0)\n",
      "Requirement already satisfied: tornado>=4.2 in c:\\users\\asus\\anaconda3\\lib\\site-packages (from ipykernel>=4.5.1->ipywidgets>=7.3.0; extra == \"visualization\"->qiskit[visualization]) (6.0.3)\n",
      "Requirement already satisfied: jupyter-client in c:\\users\\asus\\anaconda3\\lib\\site-packages (from ipykernel>=4.5.1->ipywidgets>=7.3.0; extra == \"visualization\"->qiskit[visualization]) (5.3.1)\n",
      "Requirement already satisfied: asn1crypto>=0.21.0 in c:\\users\\asus\\anaconda3\\lib\\site-packages (from cryptography>=1.3->requests-ntlm>=1.1.0->qiskit-ibmq-provider==0.8.0->qiskit[visualization]) (0.24.0)\n",
      "Requirement already satisfied: cffi!=1.11.3,>=1.8 in c:\\users\\asus\\anaconda3\\lib\\site-packages (from cryptography>=1.3->requests-ntlm>=1.1.0->qiskit-ibmq-provider==0.8.0->qiskit[visualization]) (1.12.3)\n",
      "Requirement already satisfied: parso>=0.3.0 in c:\\users\\asus\\anaconda3\\lib\\site-packages (from jedi>=0.10->ipython>=4.0.0; python_version >= \"3.3\"->ipywidgets>=7.3.0; extra == \"visualization\"->qiskit[visualization]) (0.5.0)\n",
      "Requirement already satisfied: wcwidth in c:\\users\\asus\\anaconda3\\lib\\site-packages (from prompt-toolkit<2.1.0,>=2.0.0->ipython>=4.0.0; python_version >= \"3.3\"->ipywidgets>=7.3.0; extra == \"visualization\"->qiskit[visualization]) (0.1.7)\n",
      "Requirement already satisfied: jinja2 in c:\\users\\asus\\anaconda3\\lib\\site-packages (from notebook>=4.4.1->widgetsnbextension~=3.5.0->ipywidgets>=7.3.0; extra == \"visualization\"->qiskit[visualization]) (2.10.1)\n",
      "Requirement already satisfied: nbconvert in c:\\users\\asus\\anaconda3\\lib\\site-packages (from notebook>=4.4.1->widgetsnbextension~=3.5.0->ipywidgets>=7.3.0; extra == \"visualization\"->qiskit[visualization]) (5.5.0)\n",
      "Requirement already satisfied: prometheus-client in c:\\users\\asus\\anaconda3\\lib\\site-packages (from notebook>=4.4.1->widgetsnbextension~=3.5.0->ipywidgets>=7.3.0; extra == \"visualization\"->qiskit[visualization]) (0.7.1)\n",
      "Requirement already satisfied: Send2Trash in c:\\users\\asus\\anaconda3\\lib\\site-packages (from notebook>=4.4.1->widgetsnbextension~=3.5.0->ipywidgets>=7.3.0; extra == \"visualization\"->qiskit[visualization]) (1.5.0)\n",
      "Requirement already satisfied: pyzmq>=17 in c:\\users\\asus\\anaconda3\\lib\\site-packages (from notebook>=4.4.1->widgetsnbextension~=3.5.0->ipywidgets>=7.3.0; extra == \"visualization\"->qiskit[visualization]) (18.0.0)\n",
      "Requirement already satisfied: terminado>=0.8.1 in c:\\users\\asus\\anaconda3\\lib\\site-packages (from notebook>=4.4.1->widgetsnbextension~=3.5.0->ipywidgets>=7.3.0; extra == \"visualization\"->qiskit[visualization]) (0.8.2)\n",
      "Requirement already satisfied: pycparser in c:\\users\\asus\\anaconda3\\lib\\site-packages (from cffi!=1.11.3,>=1.8->cryptography>=1.3->requests-ntlm>=1.1.0->qiskit-ibmq-provider==0.8.0->qiskit[visualization]) (2.19)\n",
      "Requirement already satisfied: MarkupSafe>=0.23 in c:\\users\\asus\\anaconda3\\lib\\site-packages (from jinja2->notebook>=4.4.1->widgetsnbextension~=3.5.0->ipywidgets>=7.3.0; extra == \"visualization\"->qiskit[visualization]) (1.1.1)\n",
      "Requirement already satisfied: defusedxml in c:\\users\\asus\\anaconda3\\lib\\site-packages (from nbconvert->notebook>=4.4.1->widgetsnbextension~=3.5.0->ipywidgets>=7.3.0; extra == \"visualization\"->qiskit[visualization]) (0.6.0)\n",
      "Requirement already satisfied: mistune>=0.8.1 in c:\\users\\asus\\anaconda3\\lib\\site-packages (from nbconvert->notebook>=4.4.1->widgetsnbextension~=3.5.0->ipywidgets>=7.3.0; extra == \"visualization\"->qiskit[visualization]) (0.8.4)\n",
      "Requirement already satisfied: bleach in c:\\users\\asus\\anaconda3\\lib\\site-packages (from nbconvert->notebook>=4.4.1->widgetsnbextension~=3.5.0->ipywidgets>=7.3.0; extra == \"visualization\"->qiskit[visualization]) (3.1.0)\n",
      "Requirement already satisfied: entrypoints>=0.2.2 in c:\\users\\asus\\anaconda3\\lib\\site-packages (from nbconvert->notebook>=4.4.1->widgetsnbextension~=3.5.0->ipywidgets>=7.3.0; extra == \"visualization\"->qiskit[visualization]) (0.3)\n",
      "Requirement already satisfied: testpath in c:\\users\\asus\\anaconda3\\lib\\site-packages (from nbconvert->notebook>=4.4.1->widgetsnbextension~=3.5.0->ipywidgets>=7.3.0; extra == \"visualization\"->qiskit[visualization]) (0.4.2)\n",
      "Requirement already satisfied: pandocfilters>=1.4.1 in c:\\users\\asus\\anaconda3\\lib\\site-packages (from nbconvert->notebook>=4.4.1->widgetsnbextension~=3.5.0->ipywidgets>=7.3.0; extra == \"visualization\"->qiskit[visualization]) (1.4.2)\n",
      "Requirement already satisfied: webencodings in c:\\users\\asus\\anaconda3\\lib\\site-packages (from bleach->nbconvert->notebook>=4.4.1->widgetsnbextension~=3.5.0->ipywidgets>=7.3.0; extra == \"visualization\"->qiskit[visualization]) (0.5.1)\n",
      "Installing collected packages: qiskit-terra\n",
      "  Found existing installation: qiskit-terra 0.19.0\n",
      "    Uninstalling qiskit-terra-0.19.0:\n",
      "      Successfully uninstalled qiskit-terra-0.19.0\n"
     ]
    },
    {
     "name": "stderr",
     "output_type": "stream",
     "text": [
      "ERROR: qiskit-nature 0.2.2 has requirement qiskit-terra>=0.18.0, but you'll have qiskit-terra 0.15.1 which is incompatible.\n",
      "ERROR: Could not install packages due to an EnvironmentError: [WinError 5] Access is denied: 'c:\\\\users\\\\asus\\\\anaconda3\\\\lib\\\\site-packages\\\\qiskit\\\\~uantum_info\\\\states\\\\cython\\\\exp_value.cp37-win_amd64.pyd'\n",
      "Consider using the `--user` option or check the permissions.\n",
      "\n",
      "C:\\Users\\ASUS\\Anaconda3\\lib\\site-packages\\numpy\\_distributor_init.py:32: UserWarning: loaded more than 1 DLL from .libs:\n",
      "C:\\Users\\ASUS\\Anaconda3\\lib\\site-packages\\numpy\\.libs\\libopenblas.QVLO2T66WEPI7JZ63PS3HMOHFEY472BC.gfortran-win_amd64.dll\n",
      "C:\\Users\\ASUS\\Anaconda3\\lib\\site-packages\\numpy\\.libs\\libopenblas.WCDJNK7YVMPZQ2ME2ZZHJJRJ3JIKNDB7.gfortran-win_amd64.dll\n",
      "  stacklevel=1)\n",
      "configrc.store_credentials:WARNING:2022-02-15 13:05:02,170: Credentials already present. Set overwrite=True to overwrite.\n",
      "C:\\Users\\ASUS\\Anaconda3\\lib\\site-packages\\qiskit\\providers\\ibmq\\ibmqfactory.py:192: UserWarning: Timestamps in IBMQ backend properties, jobs, and job results are all now in local time instead of UTC.\n",
      "  warnings.warn('Timestamps in IBMQ backend properties, jobs, and job results '\n"
     ]
    },
    {
     "data": {
      "text/plain": [
       "<AccountProvider for IBMQ(hub='ibm-q', group='open', project='main')>"
      ]
     },
     "execution_count": 1,
     "metadata": {},
     "output_type": "execute_result"
    }
   ],
   "source": [
    "!pip install qiskit[visualization]\n",
    "\n",
    "# Imports for Qiskit\n",
    "from qiskit import QuantumCircuit, execute, Aer, IBMQ\n",
    "from qiskit.compiler import transpile, assemble\n",
    "from qiskit.tools.jupyter import *\n",
    "from qiskit.visualization import *\n",
    "from qiskit import *\n",
    "from qiskit import IBMQ, Aer\n",
    "from qiskit import QuantumCircuit, ClassicalRegister, QuantumRegister\n",
    "from qiskit.visualization import plot_histogram\n",
    "import numpy as np\n",
    "\n",
    "# Various imports \n",
    "import numpy as np\n",
    "\n",
    "from copy import deepcopy\n",
    "from matplotlib import pyplot as plt\n",
    "\n",
    "IBMQ.save_account('Put your token')\n",
    "provider = IBMQ.load_account()\n",
    "IBMQ.get_provider(hub='ibm-q', group='open', project = 'main')"
   ]
  },
  {
   "cell_type": "code",
   "execution_count": 2,
   "metadata": {
    "colab": {
     "base_uri": "https://localhost:8080/",
     "height": 276
    },
    "id": "Wwtja16C2eXL",
    "outputId": "fabc162c-19b8-4c2a-aa9f-fbbab024bf8d"
   },
   "outputs": [
    {
     "data": {
      "image/png": "[encoded data removed]",
      "text/plain": [
       "<Figure size 255.489x325.08 with 1 Axes>"
      ]
     },
     "execution_count": 2,
     "metadata": {},
     "output_type": "execute_result"
    }
   ],
   "source": [
    "# Create the various registers needed\n",
    "clock = QuantumRegister(2, name='clock')\n",
    "input = QuantumRegister(1, name='b')\n",
    "ancilla = QuantumRegister(1, name='ancilla')\n",
    "measurement = ClassicalRegister(2, name='c')\n",
    "\n",
    "# Create an empty circuit with the specified registers\n",
    "circuit = QuantumCircuit(ancilla, clock, input, measurement)\n",
    "\n",
    "circuit.barrier()\n",
    "circuit.draw(output='mpl')"
   ]
  },
  {
   "cell_type": "code",
   "execution_count": 3,
   "metadata": {
    "id": "qc_OheZk2kKM"
   },
   "outputs": [],
   "source": [
    "def qft_dagger(circ, q, n):      \n",
    "    circ.h(clock[1]);\n",
    "    for j in reversed(range(n)):\n",
    "      for k in reversed(range(j+1,n)):\n",
    "        circ.cu1(-np.pi/float(2**(k-j)), q[k], q[j]);\n",
    "    circ.h(clock[0]);\n",
    "    circ.swap(clock[0], clock[1]);\n",
    "\n",
    "def qft(circ, q, n):\n",
    "    circ.swap(clock[0], clock[1]);\n",
    "    circ.h(clock[0]);\n",
    "    for j in reversed(range(n)):\n",
    "      for k in reversed(range(j+1,n)):\n",
    "        circ.cu1(np.pi/float(2**(k-j)), q[k], q[j]);\n",
    "    circ.h(clock[1]);"
   ]
  },
  {
   "cell_type": "code",
   "execution_count": null,
   "metadata": {
    "id": "OtdDOqI_3EBa"
   },
   "outputs": [],
   "source": [
    "def qpe(circ, clock, target):\n",
    "    circuit.barrier()\n",
    "\n",
    "    # e^{i*A*t}\n",
    "    circuit.cu(np.pi/2, -np.pi/2, np.pi/2, 3*np.pi/4, clock[0], input, label='U');\n",
    "    \n",
    "    # e^{i*A*t*2}\n",
    "    circuit.cu(np.pi, np.pi, 0, 0, clock[1], input, label='U2');\n",
    "\n",
    "    circuit.barrier();\n",
    "    \n",
    "    # Perform an inverse QFT on the register holding the eigenvalues\n",
    "    qft_dagger(circuit, clock, 2)\n",
    "    \n",
    "def inv_qpe(circ, clock, target):\n",
    "    \n",
    "    # Perform a QFT on the register holding the eigenvalues\n",
    "    qft(circuit, clock, 2)\n",
    "\n",
    "    circuit.barrier()\n",
    "\n",
    "    # e^{i*A*t*2}\n",
    "    circuit.cu(np.pi, np.pi, 0, 0, clock[1], input, label='U2');\n",
    "\n",
    "    #circuit.barrier();\n",
    "\n",
    "    # e^{i*A*t}\n",
    "    circuit.cu(np.pi/2, np.pi/2, -np.pi/2, -3*np.pi/4, clock[0], input, label='U');\n",
    "\n",
    "    circuit.barrier()"
   ]
  },
  {
   "cell_type": "code",
   "execution_count": null,
   "metadata": {},
   "outputs": [],
   "source": []
  },
  {
   "cell_type": "code",
   "execution_count": null,
   "metadata": {
    "id": "v9vzO1Ut33On"
   },
   "outputs": [],
   "source": [
    "def hhl(circ, ancilla, clock, input, measurement):\n",
    "    \n",
    "    qpe(circ, clock, input)\n",
    "\n",
    "    circuit.barrier()\n",
    "    \n",
    "    # This section is to test and implement C = 1\n",
    "    circuit.cry(np.pi, clock[0], ancilla)\n",
    "    circuit.cry(np.pi/3, clock[1], ancilla)\n",
    "\n",
    "    circuit.barrier()\n",
    "    \n",
    "    circuit.measure(ancilla, measurement[0])\n",
    "    circuit.barrier()\n",
    "    inv_qpe(circ, clock, input)"
   ]
  },
  {
   "cell_type": "code",
   "execution_count": null,
   "metadata": {
    "colab": {
     "base_uri": "https://localhost:8080/"
    },
    "id": "0rJxGgI338hJ",
    "outputId": "36cbb8f4-575d-4127-f70f-1e7a84c78e77"
   },
   "outputs": [],
   "source": [
    "# State preparation. \n",
    "intial_state = [0,1]\n",
    "circuit.initialize(intial_state, 3)\n",
    "\n",
    "circuit.barrier()\n",
    "\n",
    "# Perform a Hadamard Transform\n",
    "circuit.h(clock)\n",
    "\n",
    "hhl(circuit, ancilla, clock, input, measurement)\n",
    "\n",
    "# Perform a Hadamard Transform\n",
    "circuit.h(clock)\n",
    "\n",
    "circuit.barrier()\n",
    "\n",
    "\n",
    "circuit.measure(input, measurement[1])"
   ]
  },
  {
   "cell_type": "code",
   "execution_count": null,
   "metadata": {
    "colab": {
     "base_uri": "https://localhost:8080/",
     "height": 549
    },
    "id": "-iXPk0fL4Djt",
    "outputId": "2d9eafa3-0591-465a-a032-81ac8fb2e6d9"
   },
   "outputs": [],
   "source": [
    "circuit.draw('mpl',scale=1)"
   ]
  },
  {
   "cell_type": "code",
   "execution_count": null,
   "metadata": {},
   "outputs": [],
   "source": [
    "# Execute the circuit using the simulator\n",
    "simulator = qiskit.BasicAer.get_backend('qasm_simulator')\n",
    "job = execute(circuit, backend=simulator, shots=65536)\n",
    "\n",
    "#Get the result of the execution\n",
    "result = job.result()\n",
    "\n",
    "# Get the counts, the frequency of each answer\n",
    "counts = result.get_counts(circuit)\n",
    "\n",
    "# Display the results\n",
    "plot_histogram(counts)"
   ]
  },
  {
   "cell_type": "code",
   "execution_count": null,
   "metadata": {
    "colab": {
     "base_uri": "https://localhost:8080/"
    },
    "id": "6qis0UM-Zk5F",
    "outputId": "98c9b02d-3e3e-4fd0-8fbb-64b1d1abfe36"
   },
   "outputs": [],
   "source": [
    "bcknd = Aer.get_backend('statevector_simulator')\n",
    "\n",
    "job_sim = execute(circuit, bcknd)\n",
    "result = job_sim.result()\n",
    "\n",
    "o_state_result = result.get_statevector(circuit, decimals=3)\n",
    "print(o_state_result)"
   ]
  },
  {
   "cell_type": "code",
   "execution_count": null,
   "metadata": {
    "colab": {
     "base_uri": "https://localhost:8080/"
    },
    "id": "jWJ3BfVNhz6G",
    "outputId": "0c46e67b-af47-441d-da98-39fc22c04dc3"
   },
   "outputs": [],
   "source": [
    "provider.backends()\n",
    "\n",
    "# Choose the backend on which to run the circuit\n",
    "backend = provider.get_backend('ibmq_santiago')\n",
    "\n",
    "from qiskit.tools.monitor import job_monitor\n",
    "\n",
    "# Execute the job\n",
    "job_exp = execute(circuit, backend=backend, shots=8192)\n",
    "\n",
    "# Monitor the job to know where we are in the queue\n",
    "job_monitor(job_exp, interval = 2)"
   ]
  },
  {
   "cell_type": "code",
   "execution_count": null,
   "metadata": {
    "colab": {
     "base_uri": "https://localhost:8080/",
     "height": 332
    },
    "id": "s-VdjWGfh6KP",
    "outputId": "c08df400-14c0-4adf-9c4e-f8ca0b11475f"
   },
   "outputs": [],
   "source": [
    "# Get the results from the computation\n",
    "results = job_exp.result()\n",
    "\n",
    "# Get the statistics\n",
    "answer = results.get_counts(circuit)\n",
    "\n",
    "# Plot the results\n",
    "plot_histogram(answer)"
   ]
  },
  {
   "cell_type": "code",
   "execution_count": null,
   "metadata": {},
   "outputs": [],
   "source": []
  }
 ],
 "metadata": {
  "colab": {
   "collapsed_sections": [],
   "name": "Final_HHL_2x2_Conferecnce_Wong_Morrell.ipynb",
   "provenance": []
  },
  "kernelspec": {
   "display_name": "Python 3",
   "language": "python",
   "name": "python3"
  },
  "language_info": {
   "codemirror_mode": {
    "name": "ipython",
    "version": 3
   },
   "file_extension": ".py",
   "mimetype": "text/x-python",
   "name": "python",
   "nbconvert_exporter": "python",
   "pygments_lexer": "ipython3",
   "version": "3.7.3"
  }
 },
 "nbformat": 4,
 "nbformat_minor": 1
}
